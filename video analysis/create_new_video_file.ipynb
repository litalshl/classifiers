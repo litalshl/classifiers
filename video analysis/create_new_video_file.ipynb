{
 "cells": [
  {
   "cell_type": "markdown",
   "metadata": {},
   "source": [
    "<h1>Extract participant video from zoom recording</h1>"
   ]
  },
  {
   "cell_type": "code",
   "execution_count": 5,
   "metadata": {},
   "outputs": [
    {
     "name": "stdout",
     "output_type": "stream",
     "text": [
      "FFmpeg Output: None\n"
     ]
    }
   ],
   "source": [
    "import subprocess\n",
    "\n",
    "# Cut the video\n",
    "input_video = 'zoom_0.mp4'\n",
    "start_time = '00:07:19'  \n",
    "end_time = '01:22:35'    \n",
    "output_cut = 'ID98_shorter.mp4'\n",
    "\n",
    "cut_command = f\"ffmpeg -i {input_video} -ss {start_time} -to {end_time} -c copy {output_cut}\"\n",
    "result = subprocess.run(cut_command, shell=True)\n",
    "\n",
    "# # Extract Face Video\n",
    "# output_cropped = 'output_cropped.mp4'\n",
    "\n",
    "# crop_command = f\"ffmpeg -i {output_cut} -analyzeduration 10M -probesize 10M -c:v libx264 -vf 'crop=640:480:10:10' {output_cropped}\"\n",
    "\n",
    "# # Run the command and capture output\n",
    "# result = subprocess.run(crop_command, shell=True, capture_output=True, text=True)\n",
    "\n",
    "# Print the output\n",
    "print(\"FFmpeg Output:\", result.stdout)\n",
    "\n",
    "# Check for errors\n",
    "if result.returncode != 0:\n",
    "    print(\"Error:\", result.stderr)\n"
   ]
  },
  {
   "cell_type": "code",
   "execution_count": 22,
   "metadata": {},
   "outputs": [
    {
     "name": "stdout",
     "output_type": "stream",
     "text": [
      "Attempt 1 of 5: Failed to read first frame. Retrying...\n"
     ]
    }
   ],
   "source": [
    "import cv2\n",
    "import time\n",
    "\n",
    "# Input and output video filenames\n",
    "input_video_filename = 'ID98_shorter.mp4'\n",
    "output_cropped_filename = 'ID98_cropped.mp4'\n",
    "\n",
    "# Open the video file\n",
    "cap = cv2.VideoCapture(input_video_filename)\n",
    "\n",
    "if not cap.isOpened():\n",
    "    print(f\"Error: Could not open video '{input_video_filename}'.\")\n",
    "    exit()\n",
    "\n",
    "# Initialize retry mechanism variables\n",
    "max_attempts = 5\n",
    "attempts = 0\n",
    "frame_read_successfully = False\n",
    "\n",
    "while attempts < max_attempts and not frame_read_successfully:\n",
    "    ret, frame = cap.read()\n",
    "    if ret:\n",
    "        frame_read_successfully = True\n",
    "    else:\n",
    "        print(f\"Attempt {attempts + 1} of {max_attempts}: Failed to read first frame. Retrying...\")\n",
    "        time.sleep(1)  # Wait for 1 second before retrying\n",
    "        attempts += 1\n",
    "\n",
    "if not frame_read_successfully:\n",
    "    print(\"Failed to read the first frame after multiple attempts. Exiting...\")\n",
    "    cap.release()\n",
    "    exit()\n",
    "\n",
    "# Reset the video capture to the start if needed\n",
    "cap.set(cv2.CAP_PROP_POS_FRAMES, 0)\n",
    "\n",
    "# Get video properties\n",
    "width = int(cap.get(cv2.CAP_PROP_FRAME_WIDTH))\n",
    "height = int(cap.get(cv2.CAP_PROP_FRAME_HEIGHT))\n",
    "\n",
    "# Set the desired crop region (adjust these values as needed)\n",
    "x, y, w, h = width - 200, 130, 200, 130\n",
    "\n",
    "# Create a VideoWriter object to write the cropped video\n",
    "fourcc = cv2.VideoWriter_fourcc(*'mp4v')  # You can change the codec if needed\n",
    "out = cv2.VideoWriter(output_cropped_filename, fourcc, 30, (w, h))\n",
    "\n",
    "# Read and write frames\n",
    "while True:\n",
    "    ret, frame = cap.read()\n",
    "    if not ret:\n",
    "        break\n",
    "\n",
    "    # Crop the frame\n",
    "    cropped_frame = frame[y:y+h, x:x+w]\n",
    "\n",
    "    # Write the cropped frame to the output video\n",
    "    out.write(cropped_frame)\n",
    "\n",
    "# Release the video capture and writer objects\n",
    "cap.release()\n",
    "out.release()\n",
    "\n",
    "# Destroy any OpenCV windows\n",
    "cv2.destroyAllWindows()\n"
   ]
  }
 ],
 "metadata": {
  "kernelspec": {
   "display_name": "Python 3",
   "language": "python",
   "name": "python3"
  },
  "language_info": {
   "codemirror_mode": {
    "name": "ipython",
    "version": 3
   },
   "file_extension": ".py",
   "mimetype": "text/x-python",
   "name": "python",
   "nbconvert_exporter": "python",
   "pygments_lexer": "ipython3",
   "version": "3.10.4"
  }
 },
 "nbformat": 4,
 "nbformat_minor": 2
}
