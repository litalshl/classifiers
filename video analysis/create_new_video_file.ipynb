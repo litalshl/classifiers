{
 "cells": [
  {
   "cell_type": "markdown",
   "metadata": {},
   "source": [
    "<h1>Extract participant video from zoom recording</h1>"
   ]
  },
  {
   "cell_type": "code",
   "execution_count": null,
   "metadata": {},
   "outputs": [],
   "source": [
    "import subprocess\n",
    "\n",
    "# Cut the video\n",
    "input_video = '001.mp4'\n",
    "start_time = '00:52:38'  \n",
    "end_time = '00:58:29'    \n",
    "output_cut = '001_output_cut.mp4'\n",
    "\n",
    "cut_command = f\"ffmpeg -i {input_video} -ss {start_time} -to {end_time} -c copy {output_cut}\"\n",
    "subprocess.run(cut_command, shell=True)\n",
    "\n",
    "# Extract Face Video\n",
    "output_cropped = 'output_cropped.mp4'\n",
    "\n",
    "crop_command = f\"ffmpeg -i {output_cut} -vf 'crop=w:h:x:y' {output_cropped}\"\n",
    "subprocess.run(crop_command, shell=True)\n"
   ]
  }
 ],
 "metadata": {
  "language_info": {
   "name": "python"
  }
 },
 "nbformat": 4,
 "nbformat_minor": 2
}
