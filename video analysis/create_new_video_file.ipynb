{
 "cells": [
  {
   "cell_type": "markdown",
   "metadata": {},
   "source": [
    "<h1>Extract participant video from zoom recording</h1>"
   ]
  },
  {
   "cell_type": "code",
   "execution_count": 15,
   "metadata": {},
   "outputs": [
    {
     "name": "stdout",
     "output_type": "stream",
     "text": [
      "FFmpeg Output: \n",
      "Error: ffmpeg version N-113801-g6c83cd5cb3-20240224 Copyright (c) 2000-2024 the FFmpeg developers\n",
      "  built with gcc 13.2.0 (crosstool-NG 1.25.0.232_c175b21)\n",
      "  configuration: --prefix=/ffbuild/prefix --pkg-config-flags=--static --pkg-config=pkg-config --cross-prefix=x86_64-w64-mingw32- --arch=x86_64 --target-os=mingw32 --enable-gpl --enable-version3 --disable-debug --disable-w32threads --enable-pthreads --enable-iconv --enable-libxml2 --enable-zlib --enable-libfreetype --enable-libfribidi --enable-gmp --enable-lzma --enable-fontconfig --enable-libharfbuzz --enable-libvorbis --enable-opencl --disable-libpulse --enable-libvmaf --disable-libxcb --disable-xlib --enable-amf --enable-libaom --enable-libaribb24 --enable-avisynth --enable-chromaprint --enable-libdav1d --enable-libdavs2 --disable-libfdk-aac --enable-ffnvcodec --enable-cuda-llvm --enable-frei0r --enable-libgme --enable-libkvazaar --enable-libaribcaption --enable-libass --enable-libbluray --enable-libjxl --enable-libmp3lame --enable-libopus --enable-librist --enable-libssh --enable-libtheora --enable-libvpx --enable-libwebp --enable-lv2 --enable-libvpl --enable-openal --enable-libopencore-amrnb --enable-libopencore-amrwb --enable-libopenh264 --enable-libopenjpeg --enable-libopenmpt --enable-librav1e --enable-librubberband --enable-schannel --enable-sdl2 --enable-libsoxr --enable-libsrt --enable-libsvtav1 --enable-libtwolame --enable-libuavs3d --disable-libdrm --enable-vaapi --enable-libvidstab --enable-vulkan --enable-libshaderc --enable-libplacebo --enable-libx264 --enable-libx265 --enable-libxavs2 --enable-libxvid --enable-libzimg --enable-libzvbi --extra-cflags=-DLIBTWOLAME_STATIC --extra-cxxflags= --extra-ldflags=-pthread --extra-ldexeflags= --extra-libs=-lgomp --extra-version=20240224\n",
      "  libavutil      58. 39.100 / 58. 39.100\n",
      "  libavcodec     60. 40.100 / 60. 40.100\n",
      "  libavformat    60. 21.101 / 60. 21.101\n",
      "  libavdevice    60.  4.100 / 60.  4.100\n",
      "  libavfilter     9. 17.100 /  9. 17.100\n",
      "  libswscale      7.  6.100 /  7.  6.100\n",
      "  libswresample   4. 13.100 /  4. 13.100\n",
      "  libpostproc    57.  4.100 / 57.  4.100\n",
      "[mov,mp4,m4a,3gp,3g2,mj2 @ 000001db9eadd1c0] Could not find codec parameters for stream 0 (Video: h264 (avc1 / 0x31637661), none, 1920x1080, 202 kb/s): unspecified pixel format\n",
      "Consider increasing the value for the 'analyzeduration' (0) and 'probesize' (5000000) options\n",
      "Input #0, mov,mp4,m4a,3gp,3g2,mj2, from '001_shorter.mp4':\n",
      "  Metadata:\n",
      "    major_brand     : isom\n",
      "    minor_version   : 512\n",
      "    compatible_brands: isomiso2avc1mp41\n",
      "    encoder         : Lavf60.21.101\n",
      "  Duration: 00:05:51.01, start: 0.016000, bitrate: 325 kb/s\n",
      "  Stream #0:0[0x1](und): Video: h264 (avc1 / 0x31637661), none, 1920x1080, 202 kb/s, 25 fps, 25 tbr, 30k tbn (default)\n",
      "      Metadata:\n",
      "        handler_name    : H.264/AVC video\n",
      "        vendor_id       : [0][0][0][0]\n",
      "        encoder         : AVC Coding\n",
      "  Stream #0:1[0x2](und): Audio: aac (LC) (mp4a / 0x6134706D), 32000 Hz, mono, fltp, 126 kb/s (default)\n",
      "      Metadata:\n",
      "        handler_name    : AAC audio\n",
      "        vendor_id       : [0][0][0][0]\n",
      "[AVFilterGraph @ 000001db9eb74580] No such filter: 'crop=640:480:10:10'\n",
      "[vost#0:0/libx264 @ 000001dba09fe940] Error initializing a simple filtergraph\n",
      "Error opening output file output_cropped.mp4.\n",
      "Error opening output files: Filter not found\n",
      "\n"
     ]
    }
   ],
   "source": [
    "import subprocess\n",
    "\n",
    "# Cut the video\n",
    "input_video = '001.mp4'\n",
    "start_time = '00:52:38'  \n",
    "end_time = '00:58:29'    \n",
    "output_cut = '001_shorter.mp4'\n",
    "\n",
    "cut_command = f\"ffmpeg -i {input_video} -ss {start_time} -to {end_time} -c copy {output_cut}\"\n",
    "subprocess.run(cut_command, shell=True)\n",
    "\n",
    "# Extract Face Video\n",
    "output_cropped = 'output_cropped.mp4'\n",
    "\n",
    "crop_command = f\"ffmpeg -i {output_cut} -analyzeduration 10M -probesize 10M -c:v libx264 -vf 'crop=640:480:10:10' {output_cropped}\"\n",
    "\n",
    "# Run the command and capture output\n",
    "result = subprocess.run(crop_command, shell=True, capture_output=True, text=True)\n",
    "\n",
    "# Print the output\n",
    "print(\"FFmpeg Output:\", result.stdout)\n",
    "\n",
    "# Check for errors\n",
    "if result.returncode != 0:\n",
    "    print(\"Error:\", result.stderr)\n"
   ]
  },
  {
   "cell_type": "code",
   "execution_count": 22,
   "metadata": {},
   "outputs": [],
   "source": [
    "import cv2\n",
    "\n",
    "# Input and output video filenames\n",
    "input_video_filename = '001_shorter.mp4'\n",
    "output_cropped_filename = '001_cropped.mp4'\n",
    "\n",
    "# Open the video file\n",
    "cap = cv2.VideoCapture(input_video_filename)\n",
    "\n",
    "# Get video properties\n",
    "width = int(cap.get(cv2.CAP_PROP_FRAME_WIDTH))\n",
    "height = int(cap.get(cv2.CAP_PROP_FRAME_HEIGHT))\n",
    "\n",
    "# Set the desired crop region (adjust these values as needed)\n",
    "x, y, w, h = 1650, 200, 200, 180\n",
    "\n",
    "# Create a VideoWriter object to write the cropped video\n",
    "fourcc = cv2.VideoWriter_fourcc(*'mp4v')  # You can change the codec if needed\n",
    "out = cv2.VideoWriter(output_cropped_filename, fourcc, 30, (w, h))\n",
    "\n",
    "# Read and write frames\n",
    "while True:\n",
    "    ret, frame = cap.read()\n",
    "    if not ret:\n",
    "        break\n",
    "\n",
    "    # Crop the frame\n",
    "    cropped_frame = frame[y:y+h, x:x+w]\n",
    "\n",
    "    # Write the cropped frame to the output video\n",
    "    out.write(cropped_frame)\n",
    "\n",
    "# Release the video capture and writer objects\n",
    "cap.release()\n",
    "out.release()\n",
    "\n",
    "# Destroy any OpenCV windows\n",
    "cv2.destroyAllWindows()\n"
   ]
  }
 ],
 "metadata": {
  "kernelspec": {
   "display_name": "Python 3",
   "language": "python",
   "name": "python3"
  },
  "language_info": {
   "codemirror_mode": {
    "name": "ipython",
    "version": 3
   },
   "file_extension": ".py",
   "mimetype": "text/x-python",
   "name": "python",
   "nbconvert_exporter": "python",
   "pygments_lexer": "ipython3",
   "version": "3.10.4"
  }
 },
 "nbformat": 4,
 "nbformat_minor": 2
}
