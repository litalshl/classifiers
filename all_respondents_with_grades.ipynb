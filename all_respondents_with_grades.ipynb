{
 "cells": [
  {
   "attachments": {},
   "cell_type": "markdown",
   "metadata": {},
   "source": [
    "<h1>All Respondents Analysis with Grades</h1>"
   ]
  },
  {
   "attachments": {},
   "cell_type": "markdown",
   "metadata": {},
   "source": [
    "<h2>Read All Respondents Data</h2>"
   ]
  },
  {
   "cell_type": "code",
   "execution_count": 1,
   "metadata": {},
   "outputs": [
    {
     "name": "stdout",
     "output_type": "stream",
     "text": [
      "           Anger  Contempt   Disgust      Fear       Joy   Sadness  Surprise  \\\n",
      "0            NaN       NaN       NaN       NaN       NaN       NaN       NaN   \n",
      "1            NaN       NaN       NaN       NaN       NaN       NaN       NaN   \n",
      "2            NaN       NaN       NaN       NaN       NaN       NaN       NaN   \n",
      "3            NaN       NaN       NaN       NaN       NaN       NaN       NaN   \n",
      "4            NaN       NaN       NaN       NaN       NaN       NaN       NaN   \n",
      "...          ...       ...       ...       ...       ...       ...       ...   \n",
      "147733       NaN       NaN       NaN       NaN       NaN       NaN       NaN   \n",
      "147734  0.195341  0.187637  0.027562  0.130503  0.043328  0.117269  0.057809   \n",
      "147735  0.245047  0.204197  0.028027  0.133038  0.041089  0.118906  0.057576   \n",
      "147736       NaN       NaN       NaN       NaN       NaN       NaN       NaN   \n",
      "147737       NaN       NaN       NaN       NaN       NaN       NaN       NaN   \n",
      "\n",
      "        Engagement  Valence  Sentimentality  ...  Saccade Index by Stimulus  \\\n",
      "0              NaN      NaN             NaN  ...                        NaN   \n",
      "1              NaN      NaN             NaN  ...                        NaN   \n",
      "2              NaN      NaN             NaN  ...                        NaN   \n",
      "3              NaN      NaN             NaN  ...                        NaN   \n",
      "4              NaN      NaN             NaN  ...                        NaN   \n",
      "...            ...      ...             ...  ...                        ...   \n",
      "147733         NaN      NaN             NaN  ...                        NaN   \n",
      "147734    0.328766      0.0        0.645367  ...                        NaN   \n",
      "147735    0.328766      0.0        0.701570  ...                        NaN   \n",
      "147736         NaN      NaN             NaN  ...                        NaN   \n",
      "147737         NaN      NaN             NaN  ...                        NaN   \n",
      "\n",
      "        Saccade Start  Saccade End  Saccade Duration  Saccade Amplitude  \\\n",
      "0                 NaN          NaN               NaN                NaN   \n",
      "1             36046.4      36190.9             144.5          10.863743   \n",
      "2             36046.4      36190.9             144.5          10.863743   \n",
      "3             36046.4      36190.9             144.5          10.863743   \n",
      "4                 NaN          NaN               NaN                NaN   \n",
      "...               ...          ...               ...                ...   \n",
      "147733      2522535.8    2523204.8             669.0          13.749534   \n",
      "147734            NaN          NaN               NaN                NaN   \n",
      "147735            NaN          NaN               NaN                NaN   \n",
      "147736            NaN          NaN               NaN                NaN   \n",
      "147737            NaN          NaN               NaN                NaN   \n",
      "\n",
      "        Saccade Peak Velocity  Saccade Peak Acceleration  \\\n",
      "0                         NaN                        NaN   \n",
      "1                  187.888661                1271.556906   \n",
      "2                  187.888661                1271.556906   \n",
      "3                  187.888661                1271.556906   \n",
      "4                         NaN                        NaN   \n",
      "...                       ...                        ...   \n",
      "147733             185.949516                4693.041627   \n",
      "147734                    NaN                        NaN   \n",
      "147735                    NaN                        NaN   \n",
      "147736                    NaN                        NaN   \n",
      "147737                    NaN                        NaN   \n",
      "\n",
      "        Saccade Peak Deceleration  Saccade Direction  Respondent  \n",
      "0                             NaN                NaN         001  \n",
      "1                    -1870.865410          39.448696         001  \n",
      "2                    -1870.865410          39.448696         001  \n",
      "3                    -1870.865410          39.448696         001  \n",
      "4                             NaN                NaN         001  \n",
      "...                           ...                ...         ...  \n",
      "147733               -4362.382069         331.759749         019  \n",
      "147734                        NaN                NaN         019  \n",
      "147735                        NaN                NaN         019  \n",
      "147736                        NaN                NaN         019  \n",
      "147737                        NaN                NaN         019  \n",
      "\n",
      "[1533702 rows x 77 columns]\n"
     ]
    }
   ],
   "source": [
    "import os\n",
    "import pandas as pd\n",
    "\n",
    "# Specify the folder path where the CSV files are located\n",
    "folder_path = \"all respondents data\"\n",
    "\n",
    "# Initialize an empty dataframe to store the combined data\n",
    "combined_data = pd.DataFrame()\n",
    "\n",
    "# Loop through each file in the folder with .csv extension and append to the combined_data dataframe\n",
    "for filename in os.listdir(folder_path):\n",
    "    if filename.endswith(\".csv\"):\n",
    "        file_path = os.path.join(folder_path, filename)\n",
    "        df = pd.read_csv(file_path, low_memory=False)\n",
    "        respondent_num = filename.split('_')[0]  # Get the first part of the filename before the first '_'\n",
    "        df['Respondent'] = respondent_num  # Add a new column with the respondent number\n",
    "        combined_data = pd.concat([combined_data, df])\n",
    "\n",
    "columns_to_remove = ['Row','Timestamp','EventSource','SlideEvent','StimType','Duration',\n",
    "                     'CollectionPhase','SourceStimuliName','EventSource','SampleNumber','EventSource.1',\n",
    "                     'Blink', 'BlinkRate', 'EventSource.2', 'ET_TimeSignal', 'EventSource.3']\n",
    "combined_data.drop(columns_to_remove, axis=1, inplace=True)\n",
    "\n",
    "# Print the combined data\n",
    "print(combined_data)\n"
   ]
  },
  {
   "attachments": {},
   "cell_type": "markdown",
   "metadata": {},
   "source": [
    "<h2>Facial Expressions Analysis</h2>"
   ]
  },
  {
   "attachments": {},
   "cell_type": "markdown",
   "metadata": {},
   "source": [
    "<h3>Data Pre-processing</h3>"
   ]
  }
 ],
 "metadata": {
  "kernelspec": {
   "display_name": "Python 3",
   "language": "python",
   "name": "python3"
  },
  "language_info": {
   "codemirror_mode": {
    "name": "ipython",
    "version": 3
   },
   "file_extension": ".py",
   "mimetype": "text/x-python",
   "name": "python",
   "nbconvert_exporter": "python",
   "pygments_lexer": "ipython3",
   "version": "3.10.4"
  },
  "orig_nbformat": 4
 },
 "nbformat": 4,
 "nbformat_minor": 2
}
