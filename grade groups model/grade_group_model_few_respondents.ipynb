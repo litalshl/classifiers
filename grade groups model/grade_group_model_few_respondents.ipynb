{
 "cells": [
  {
   "attachments": {},
   "cell_type": "markdown",
   "metadata": {},
   "source": [
    "<h1>All Respondents Analysis with Grades</h1>"
   ]
  },
  {
   "attachments": {},
   "cell_type": "markdown",
   "metadata": {},
   "source": [
    "<h2>Read All Respondents Data</h2>"
   ]
  },
  {
   "cell_type": "code",
   "execution_count": 34,
   "metadata": {},
   "outputs": [],
   "source": [
    "import os\n",
    "import pandas as pd\n",
    "\n",
    "# Specify the folder path where the CSV files are located\n",
    "folder_path = \"../all respondents data\"\n",
    "\n",
    "\n",
    "# Initialize an empty dataframe to store the combined data\n",
    "combined_data = pd.DataFrame()\n",
    "\n",
    "# Loop through each file in the folder with .csv extension and append to the combined_data dataframe\n",
    "for filename in os.listdir(folder_path):\n",
    "    if filename.endswith(\".csv\"):\n",
    "        file_path = os.path.join(folder_path, filename)\n",
    "        df = pd.read_csv(file_path, low_memory=False)\n",
    "        respondent_num = filename.split('_')[0]  # Get the first part of the filename before the first '_'\n",
    "        df['Respondent'] = respondent_num  # Add a new column with the respondent number\n",
    "        combined_data = pd.concat([combined_data, df])\n",
    "\n",
    "columns_to_remove = ['Row','Timestamp','EventSource','SlideEvent','StimType','Duration',\n",
    "                     'CollectionPhase','SourceStimuliName','EventSource','SampleNumber','EventSource.1',\n",
    "                     'Blink', 'BlinkRate', 'EventSource.2', 'ET_TimeSignal', 'EventSource.3']\n",
    "combined_data.drop(columns_to_remove, axis=1, inplace=True)\n",
    "\n",
    "# Print the combined data\n",
    "# print(combined_data)\n"
   ]
  },
  {
   "cell_type": "code",
   "execution_count": 35,
   "metadata": {},
   "outputs": [],
   "source": [
    "import pandas as pd\n",
    "\n",
    "# Read in the Grades.csv file\n",
    "grades_df = pd.read_csv('Grades.csv')\n",
    "\n",
    "# Remove the trailing underscore from the \"Respondent\" column in the grades_df dataframe\n",
    "grades_df['Respondent'] = grades_df['Respondent'].str.rstrip('_')\n",
    "\n",
    "# Merge the combined_data and grades_df dataframes based on the \"Respondent\" column\n",
    "combined_data_with_grades = pd.merge(combined_data, grades_df[['Respondent', 'Grade']], on='Respondent')\n",
    "\n",
    "# Print the resulting dataframe with the added \"Grade\" column\n",
    "# print(combined_data_with_grades)\n"
   ]
  },
  {
   "attachments": {},
   "cell_type": "markdown",
   "metadata": {},
   "source": [
    "<h2>Facial Expressions Analysis</h2>"
   ]
  },
  {
   "attachments": {},
   "cell_type": "markdown",
   "metadata": {},
   "source": [
    "<h3>Data Pre-processing</h3>"
   ]
  },
  {
   "cell_type": "code",
   "execution_count": 36,
   "metadata": {},
   "outputs": [
    {
     "data": {
      "text/html": [
       "<div>\n",
       "<style scoped>\n",
       "    .dataframe tbody tr th:only-of-type {\n",
       "        vertical-align: middle;\n",
       "    }\n",
       "\n",
       "    .dataframe tbody tr th {\n",
       "        vertical-align: top;\n",
       "    }\n",
       "\n",
       "    .dataframe thead th {\n",
       "        text-align: right;\n",
       "    }\n",
       "</style>\n",
       "<table border=\"1\" class=\"dataframe\">\n",
       "  <thead>\n",
       "    <tr style=\"text-align: right;\">\n",
       "      <th></th>\n",
       "      <th>Respondent</th>\n",
       "      <th>Grade</th>\n",
       "      <th>Anger</th>\n",
       "      <th>Contempt</th>\n",
       "      <th>Disgust</th>\n",
       "      <th>Fear</th>\n",
       "      <th>Joy</th>\n",
       "      <th>Sadness</th>\n",
       "      <th>Surprise</th>\n",
       "      <th>Engagement</th>\n",
       "      <th>...</th>\n",
       "      <th>Lip Suck</th>\n",
       "      <th>Lid Tighten</th>\n",
       "      <th>Mouth Open</th>\n",
       "      <th>Nose Wrinkle</th>\n",
       "      <th>Smile</th>\n",
       "      <th>Smirk</th>\n",
       "      <th>Upper Lip Raise</th>\n",
       "      <th>Pitch</th>\n",
       "      <th>Yaw</th>\n",
       "      <th>Roll</th>\n",
       "    </tr>\n",
       "  </thead>\n",
       "  <tbody>\n",
       "    <tr>\n",
       "      <th>1479598</th>\n",
       "      <td>019</td>\n",
       "      <td>55</td>\n",
       "      <td>0.139795</td>\n",
       "      <td>0.183797</td>\n",
       "      <td>0.026397</td>\n",
       "      <td>0.130016</td>\n",
       "      <td>0.045364</td>\n",
       "      <td>0.117328</td>\n",
       "      <td>0.060181</td>\n",
       "      <td>0.328766</td>\n",
       "      <td>...</td>\n",
       "      <td>0.125971</td>\n",
       "      <td>2.270765</td>\n",
       "      <td>6.647667</td>\n",
       "      <td>0.457276</td>\n",
       "      <td>4.720551</td>\n",
       "      <td>2.773993</td>\n",
       "      <td>0.106491</td>\n",
       "      <td>1.251196</td>\n",
       "      <td>-1.319161</td>\n",
       "      <td>-0.530024</td>\n",
       "    </tr>\n",
       "    <tr>\n",
       "      <th>1479600</th>\n",
       "      <td>019</td>\n",
       "      <td>55</td>\n",
       "      <td>0.153553</td>\n",
       "      <td>0.176831</td>\n",
       "      <td>0.026905</td>\n",
       "      <td>0.128566</td>\n",
       "      <td>0.046042</td>\n",
       "      <td>0.116635</td>\n",
       "      <td>0.058846</td>\n",
       "      <td>0.328766</td>\n",
       "      <td>...</td>\n",
       "      <td>0.129171</td>\n",
       "      <td>4.729377</td>\n",
       "      <td>6.861856</td>\n",
       "      <td>0.512176</td>\n",
       "      <td>4.703412</td>\n",
       "      <td>2.382556</td>\n",
       "      <td>0.255912</td>\n",
       "      <td>0.392811</td>\n",
       "      <td>-1.608518</td>\n",
       "      <td>-0.468374</td>\n",
       "    </tr>\n",
       "    <tr>\n",
       "      <th>1479602</th>\n",
       "      <td>019</td>\n",
       "      <td>55</td>\n",
       "      <td>0.168653</td>\n",
       "      <td>0.193708</td>\n",
       "      <td>0.027669</td>\n",
       "      <td>0.130344</td>\n",
       "      <td>0.045429</td>\n",
       "      <td>0.117382</td>\n",
       "      <td>0.058326</td>\n",
       "      <td>0.328766</td>\n",
       "      <td>...</td>\n",
       "      <td>0.135208</td>\n",
       "      <td>6.785742</td>\n",
       "      <td>7.472722</td>\n",
       "      <td>0.519497</td>\n",
       "      <td>4.585781</td>\n",
       "      <td>3.149543</td>\n",
       "      <td>0.253990</td>\n",
       "      <td>0.286135</td>\n",
       "      <td>-1.387060</td>\n",
       "      <td>-0.229705</td>\n",
       "    </tr>\n",
       "    <tr>\n",
       "      <th>1479604</th>\n",
       "      <td>019</td>\n",
       "      <td>55</td>\n",
       "      <td>0.195341</td>\n",
       "      <td>0.187637</td>\n",
       "      <td>0.027562</td>\n",
       "      <td>0.130503</td>\n",
       "      <td>0.043328</td>\n",
       "      <td>0.117269</td>\n",
       "      <td>0.057809</td>\n",
       "      <td>0.328766</td>\n",
       "      <td>...</td>\n",
       "      <td>0.135131</td>\n",
       "      <td>10.632483</td>\n",
       "      <td>7.365998</td>\n",
       "      <td>0.463937</td>\n",
       "      <td>4.418400</td>\n",
       "      <td>2.717841</td>\n",
       "      <td>0.150040</td>\n",
       "      <td>-1.702013</td>\n",
       "      <td>-1.998969</td>\n",
       "      <td>-0.185392</td>\n",
       "    </tr>\n",
       "    <tr>\n",
       "      <th>1479605</th>\n",
       "      <td>019</td>\n",
       "      <td>55</td>\n",
       "      <td>0.245047</td>\n",
       "      <td>0.204197</td>\n",
       "      <td>0.028027</td>\n",
       "      <td>0.133038</td>\n",
       "      <td>0.041089</td>\n",
       "      <td>0.118906</td>\n",
       "      <td>0.057576</td>\n",
       "      <td>0.328766</td>\n",
       "      <td>...</td>\n",
       "      <td>0.144891</td>\n",
       "      <td>16.228485</td>\n",
       "      <td>7.659717</td>\n",
       "      <td>0.376117</td>\n",
       "      <td>4.076993</td>\n",
       "      <td>3.261096</td>\n",
       "      <td>0.070152</td>\n",
       "      <td>-0.172043</td>\n",
       "      <td>-1.711222</td>\n",
       "      <td>-0.415041</td>\n",
       "    </tr>\n",
       "  </tbody>\n",
       "</table>\n",
       "<p>5 rows × 38 columns</p>\n",
       "</div>"
      ],
      "text/plain": [
       "        Respondent  Grade     Anger  Contempt   Disgust      Fear       Joy  \\\n",
       "1479598        019     55  0.139795  0.183797  0.026397  0.130016  0.045364   \n",
       "1479600        019     55  0.153553  0.176831  0.026905  0.128566  0.046042   \n",
       "1479602        019     55  0.168653  0.193708  0.027669  0.130344  0.045429   \n",
       "1479604        019     55  0.195341  0.187637  0.027562  0.130503  0.043328   \n",
       "1479605        019     55  0.245047  0.204197  0.028027  0.133038  0.041089   \n",
       "\n",
       "          Sadness  Surprise  Engagement  ...  Lip Suck  Lid Tighten  \\\n",
       "1479598  0.117328  0.060181    0.328766  ...  0.125971     2.270765   \n",
       "1479600  0.116635  0.058846    0.328766  ...  0.129171     4.729377   \n",
       "1479602  0.117382  0.058326    0.328766  ...  0.135208     6.785742   \n",
       "1479604  0.117269  0.057809    0.328766  ...  0.135131    10.632483   \n",
       "1479605  0.118906  0.057576    0.328766  ...  0.144891    16.228485   \n",
       "\n",
       "         Mouth Open  Nose Wrinkle     Smile     Smirk  Upper Lip Raise  \\\n",
       "1479598    6.647667      0.457276  4.720551  2.773993         0.106491   \n",
       "1479600    6.861856      0.512176  4.703412  2.382556         0.255912   \n",
       "1479602    7.472722      0.519497  4.585781  3.149543         0.253990   \n",
       "1479604    7.365998      0.463937  4.418400  2.717841         0.150040   \n",
       "1479605    7.659717      0.376117  4.076993  3.261096         0.070152   \n",
       "\n",
       "            Pitch       Yaw      Roll  \n",
       "1479598  1.251196 -1.319161 -0.530024  \n",
       "1479600  0.392811 -1.608518 -0.468374  \n",
       "1479602  0.286135 -1.387060 -0.229705  \n",
       "1479604 -1.702013 -1.998969 -0.185392  \n",
       "1479605 -0.172043 -1.711222 -0.415041  \n",
       "\n",
       "[5 rows x 38 columns]"
      ]
     },
     "execution_count": 36,
     "metadata": {},
     "output_type": "execute_result"
    }
   ],
   "source": [
    "import pandas as pd\n",
    "\n",
    "facial_expressions_columns = ['Respondent', 'Grade','Anger', 'Contempt', 'Disgust', 'Fear', 'Joy', 'Sadness', 'Surprise',\n",
    "       'Engagement', 'Valence', 'Sentimentality', 'Confusion', 'Neutral',\n",
    "       'Attention', 'Brow Furrow', 'Brow Raise', 'Cheek Raise', 'Chin Raise',\n",
    "       'Dimpler', 'Eye Closure', 'Eye Widen', 'Inner Brow Raise', 'Jaw Drop',\n",
    "       'Lip Corner Depressor', 'Lip Press', 'Lip Pucker', 'Lip Stretch',\n",
    "       'Lip Suck', 'Lid Tighten', 'Mouth Open', 'Nose Wrinkle', 'Smile',\n",
    "       'Smirk', 'Upper Lip Raise', 'Pitch', 'Yaw',\n",
    "       'Roll']\n",
    "# Creating a copy df with only the facial expressions data\n",
    "facial_expressions_data = combined_data_with_grades[facial_expressions_columns].copy()\n",
    "\n",
    "# Remove rows with all NaN values, except in the 'Respondent' column\n",
    "facial_expressions_data = facial_expressions_data.dropna(how='all', \n",
    "                                                         subset=facial_expressions_data.columns.difference(['Respondent', 'Grade']))\n",
    "\n",
    "facial_expressions_data.tail()\n",
    "\n"
   ]
  },
  {
   "attachments": {},
   "cell_type": "markdown",
   "metadata": {},
   "source": [
    "<h2>Compare Facial Expressions by Grade Group</h2>"
   ]
  },
  {
   "cell_type": "code",
   "execution_count": 46,
   "metadata": {},
   "outputs": [
    {
     "ename": "ValueError",
     "evalue": "Cannot take a larger sample than population when 'replace=False'",
     "output_type": "error",
     "traceback": [
      "\u001b[1;31m---------------------------------------------------------------------------\u001b[0m",
      "\u001b[1;31mValueError\u001b[0m                                Traceback (most recent call last)",
      "Cell \u001b[1;32mIn[46], line 11\u001b[0m\n\u001b[0;32m      7\u001b[0m selected_columns \u001b[39m=\u001b[39m [\u001b[39m'\u001b[39m\u001b[39mAnger\u001b[39m\u001b[39m'\u001b[39m, \u001b[39m'\u001b[39m\u001b[39mContempt\u001b[39m\u001b[39m'\u001b[39m, \u001b[39m'\u001b[39m\u001b[39mDisgust\u001b[39m\u001b[39m'\u001b[39m, \u001b[39m'\u001b[39m\u001b[39mFear\u001b[39m\u001b[39m'\u001b[39m, \u001b[39m'\u001b[39m\u001b[39mJoy\u001b[39m\u001b[39m'\u001b[39m, \u001b[39m'\u001b[39m\u001b[39mSadness\u001b[39m\u001b[39m'\u001b[39m, \u001b[39m'\u001b[39m\u001b[39mSurprise\u001b[39m\u001b[39m'\u001b[39m,\n\u001b[0;32m      8\u001b[0m        \u001b[39m'\u001b[39m\u001b[39mEngagement\u001b[39m\u001b[39m'\u001b[39m, \u001b[39m'\u001b[39m\u001b[39mValence\u001b[39m\u001b[39m'\u001b[39m, \u001b[39m'\u001b[39m\u001b[39mSentimentality\u001b[39m\u001b[39m'\u001b[39m, \u001b[39m'\u001b[39m\u001b[39mConfusion\u001b[39m\u001b[39m'\u001b[39m]\n\u001b[0;32m     10\u001b[0m \u001b[39m# Group the data by the respondent ID and randomly select 5000 observations from each group\u001b[39;00m\n\u001b[1;32m---> 11\u001b[0m sampled_data \u001b[39m=\u001b[39m facial_expressions_data\u001b[39m.\u001b[39;49mgroupby(\u001b[39m'\u001b[39;49m\u001b[39mRespondent\u001b[39;49m\u001b[39m'\u001b[39;49m)\u001b[39m.\u001b[39;49mapply(\u001b[39mlambda\u001b[39;49;00m x: x\u001b[39m.\u001b[39;49msample(n\u001b[39m=\u001b[39;49m\u001b[39m15000\u001b[39;49m))\n",
      "File \u001b[1;32mc:\\Users\\user\\AppData\\Local\\Programs\\Python\\Python310\\lib\\site-packages\\pandas\\core\\groupby\\groupby.py:1423\u001b[0m, in \u001b[0;36mGroupBy.apply\u001b[1;34m(self, func, *args, **kwargs)\u001b[0m\n\u001b[0;32m   1421\u001b[0m \u001b[39mwith\u001b[39;00m option_context(\u001b[39m\"\u001b[39m\u001b[39mmode.chained_assignment\u001b[39m\u001b[39m\"\u001b[39m, \u001b[39mNone\u001b[39;00m):\n\u001b[0;32m   1422\u001b[0m     \u001b[39mtry\u001b[39;00m:\n\u001b[1;32m-> 1423\u001b[0m         result \u001b[39m=\u001b[39m \u001b[39mself\u001b[39;49m\u001b[39m.\u001b[39;49m_python_apply_general(f, \u001b[39mself\u001b[39;49m\u001b[39m.\u001b[39;49m_selected_obj)\n\u001b[0;32m   1424\u001b[0m     \u001b[39mexcept\u001b[39;00m \u001b[39mTypeError\u001b[39;00m:\n\u001b[0;32m   1425\u001b[0m         \u001b[39m# gh-20949\u001b[39;00m\n\u001b[0;32m   1426\u001b[0m         \u001b[39m# try again, with .apply acting as a filtering\u001b[39;00m\n\u001b[1;32m   (...)\u001b[0m\n\u001b[0;32m   1430\u001b[0m         \u001b[39m# fails on *some* columns, e.g. a numeric operation\u001b[39;00m\n\u001b[0;32m   1431\u001b[0m         \u001b[39m# on a string grouper column\u001b[39;00m\n\u001b[0;32m   1433\u001b[0m         \u001b[39mwith\u001b[39;00m \u001b[39mself\u001b[39m\u001b[39m.\u001b[39m_group_selection_context():\n",
      "File \u001b[1;32mc:\\Users\\user\\AppData\\Local\\Programs\\Python\\Python310\\lib\\site-packages\\pandas\\core\\groupby\\groupby.py:1464\u001b[0m, in \u001b[0;36mGroupBy._python_apply_general\u001b[1;34m(self, f, data, not_indexed_same)\u001b[0m\n\u001b[0;32m   1438\u001b[0m \u001b[39m@final\u001b[39m\n\u001b[0;32m   1439\u001b[0m \u001b[39mdef\u001b[39;00m \u001b[39m_python_apply_general\u001b[39m(\n\u001b[0;32m   1440\u001b[0m     \u001b[39mself\u001b[39m,\n\u001b[1;32m   (...)\u001b[0m\n\u001b[0;32m   1443\u001b[0m     not_indexed_same: \u001b[39mbool\u001b[39m \u001b[39m|\u001b[39m \u001b[39mNone\u001b[39;00m \u001b[39m=\u001b[39m \u001b[39mNone\u001b[39;00m,\n\u001b[0;32m   1444\u001b[0m ) \u001b[39m-\u001b[39m\u001b[39m>\u001b[39m DataFrame \u001b[39m|\u001b[39m Series:\n\u001b[0;32m   1445\u001b[0m \u001b[39m    \u001b[39m\u001b[39m\"\"\"\u001b[39;00m\n\u001b[0;32m   1446\u001b[0m \u001b[39m    Apply function f in python space\u001b[39;00m\n\u001b[0;32m   1447\u001b[0m \n\u001b[1;32m   (...)\u001b[0m\n\u001b[0;32m   1462\u001b[0m \u001b[39m        data after applying f\u001b[39;00m\n\u001b[0;32m   1463\u001b[0m \u001b[39m    \"\"\"\u001b[39;00m\n\u001b[1;32m-> 1464\u001b[0m     values, mutated \u001b[39m=\u001b[39m \u001b[39mself\u001b[39;49m\u001b[39m.\u001b[39;49mgrouper\u001b[39m.\u001b[39;49mapply(f, data, \u001b[39mself\u001b[39;49m\u001b[39m.\u001b[39;49maxis)\n\u001b[0;32m   1466\u001b[0m     \u001b[39mif\u001b[39;00m not_indexed_same \u001b[39mis\u001b[39;00m \u001b[39mNone\u001b[39;00m:\n\u001b[0;32m   1467\u001b[0m         not_indexed_same \u001b[39m=\u001b[39m mutated \u001b[39mor\u001b[39;00m \u001b[39mself\u001b[39m\u001b[39m.\u001b[39mmutated\n",
      "File \u001b[1;32mc:\\Users\\user\\AppData\\Local\\Programs\\Python\\Python310\\lib\\site-packages\\pandas\\core\\groupby\\ops.py:761\u001b[0m, in \u001b[0;36mBaseGrouper.apply\u001b[1;34m(self, f, data, axis)\u001b[0m\n\u001b[0;32m    759\u001b[0m \u001b[39m# group might be modified\u001b[39;00m\n\u001b[0;32m    760\u001b[0m group_axes \u001b[39m=\u001b[39m group\u001b[39m.\u001b[39maxes\n\u001b[1;32m--> 761\u001b[0m res \u001b[39m=\u001b[39m f(group)\n\u001b[0;32m    762\u001b[0m \u001b[39mif\u001b[39;00m \u001b[39mnot\u001b[39;00m mutated \u001b[39mand\u001b[39;00m \u001b[39mnot\u001b[39;00m _is_indexed_like(res, group_axes, axis):\n\u001b[0;32m    763\u001b[0m     mutated \u001b[39m=\u001b[39m \u001b[39mTrue\u001b[39;00m\n",
      "Cell \u001b[1;32mIn[46], line 11\u001b[0m, in \u001b[0;36m<lambda>\u001b[1;34m(x)\u001b[0m\n\u001b[0;32m      7\u001b[0m selected_columns \u001b[39m=\u001b[39m [\u001b[39m'\u001b[39m\u001b[39mAnger\u001b[39m\u001b[39m'\u001b[39m, \u001b[39m'\u001b[39m\u001b[39mContempt\u001b[39m\u001b[39m'\u001b[39m, \u001b[39m'\u001b[39m\u001b[39mDisgust\u001b[39m\u001b[39m'\u001b[39m, \u001b[39m'\u001b[39m\u001b[39mFear\u001b[39m\u001b[39m'\u001b[39m, \u001b[39m'\u001b[39m\u001b[39mJoy\u001b[39m\u001b[39m'\u001b[39m, \u001b[39m'\u001b[39m\u001b[39mSadness\u001b[39m\u001b[39m'\u001b[39m, \u001b[39m'\u001b[39m\u001b[39mSurprise\u001b[39m\u001b[39m'\u001b[39m,\n\u001b[0;32m      8\u001b[0m        \u001b[39m'\u001b[39m\u001b[39mEngagement\u001b[39m\u001b[39m'\u001b[39m, \u001b[39m'\u001b[39m\u001b[39mValence\u001b[39m\u001b[39m'\u001b[39m, \u001b[39m'\u001b[39m\u001b[39mSentimentality\u001b[39m\u001b[39m'\u001b[39m, \u001b[39m'\u001b[39m\u001b[39mConfusion\u001b[39m\u001b[39m'\u001b[39m]\n\u001b[0;32m     10\u001b[0m \u001b[39m# Group the data by the respondent ID and randomly select 5000 observations from each group\u001b[39;00m\n\u001b[1;32m---> 11\u001b[0m sampled_data \u001b[39m=\u001b[39m facial_expressions_data\u001b[39m.\u001b[39mgroupby(\u001b[39m'\u001b[39m\u001b[39mRespondent\u001b[39m\u001b[39m'\u001b[39m)\u001b[39m.\u001b[39mapply(\u001b[39mlambda\u001b[39;00m x: x\u001b[39m.\u001b[39;49msample(n\u001b[39m=\u001b[39;49m\u001b[39m15000\u001b[39;49m))\n",
      "File \u001b[1;32mc:\\Users\\user\\AppData\\Local\\Programs\\Python\\Python310\\lib\\site-packages\\pandas\\core\\generic.py:5446\u001b[0m, in \u001b[0;36mNDFrame.sample\u001b[1;34m(self, n, frac, replace, weights, random_state, axis, ignore_index)\u001b[0m\n\u001b[0;32m   5443\u001b[0m \u001b[39mif\u001b[39;00m weights \u001b[39mis\u001b[39;00m \u001b[39mnot\u001b[39;00m \u001b[39mNone\u001b[39;00m:\n\u001b[0;32m   5444\u001b[0m     weights \u001b[39m=\u001b[39m sample\u001b[39m.\u001b[39mpreprocess_weights(\u001b[39mself\u001b[39m, weights, axis)\n\u001b[1;32m-> 5446\u001b[0m sampled_indices \u001b[39m=\u001b[39m sample\u001b[39m.\u001b[39;49msample(obj_len, size, replace, weights, rs)\n\u001b[0;32m   5447\u001b[0m result \u001b[39m=\u001b[39m \u001b[39mself\u001b[39m\u001b[39m.\u001b[39mtake(sampled_indices, axis\u001b[39m=\u001b[39maxis)\n\u001b[0;32m   5449\u001b[0m \u001b[39mif\u001b[39;00m ignore_index:\n",
      "File \u001b[1;32mc:\\Users\\user\\AppData\\Local\\Programs\\Python\\Python310\\lib\\site-packages\\pandas\\core\\sample.py:150\u001b[0m, in \u001b[0;36msample\u001b[1;34m(obj_len, size, replace, weights, random_state)\u001b[0m\n\u001b[0;32m    147\u001b[0m     \u001b[39melse\u001b[39;00m:\n\u001b[0;32m    148\u001b[0m         \u001b[39mraise\u001b[39;00m \u001b[39mValueError\u001b[39;00m(\u001b[39m\"\u001b[39m\u001b[39mInvalid weights: weights sum to zero\u001b[39m\u001b[39m\"\u001b[39m)\n\u001b[1;32m--> 150\u001b[0m \u001b[39mreturn\u001b[39;00m random_state\u001b[39m.\u001b[39;49mchoice(obj_len, size\u001b[39m=\u001b[39;49msize, replace\u001b[39m=\u001b[39;49mreplace, p\u001b[39m=\u001b[39;49mweights)\u001b[39m.\u001b[39mastype(\n\u001b[0;32m    151\u001b[0m     np\u001b[39m.\u001b[39mintp, copy\u001b[39m=\u001b[39m\u001b[39mFalse\u001b[39;00m\n\u001b[0;32m    152\u001b[0m )\n",
      "File \u001b[1;32mmtrand.pyx:984\u001b[0m, in \u001b[0;36mnumpy.random.mtrand.RandomState.choice\u001b[1;34m()\u001b[0m\n",
      "\u001b[1;31mValueError\u001b[0m: Cannot take a larger sample than population when 'replace=False'"
     ]
    }
   ],
   "source": [
    "\n",
    "from tabulate import tabulate\n",
    "\n",
    "# Add a new column to the combined_data_with_grades dataframe that indicates whether the grade is above or below 55\n",
    "facial_expressions_data['Grade Group'] = facial_expressions_data['Grade'].apply(lambda x: 'Above 55' if x > 55 else 'Below 55')\n",
    "\n",
    "# Describe statistics for each selected column by grade group\n",
    "selected_columns = ['Anger', 'Contempt', 'Disgust', 'Fear', 'Joy', 'Sadness', 'Surprise',\n",
    "       'Engagement', 'Valence', 'Sentimentality', 'Confusion']\n",
    "\n",
    "# Group the data by the respondent ID and randomly select 5000 observations from each group\n",
    "# sampled_data = facial_expressions_data.groupby('Respondent').apply(lambda x: x.sample(n=5000))\n",
    "\n",
    "sample_data = facial_expressions_data\n"
   ]
  },
  {
   "attachments": {},
   "cell_type": "markdown",
   "metadata": {},
   "source": [
    "<h3>Save Dataset to File</h3>"
   ]
  },
  {
   "cell_type": "code",
   "execution_count": 38,
   "metadata": {},
   "outputs": [],
   "source": [
    "import datetime\n",
    "\n",
    "# Get current date and time as string\n",
    "now = datetime.datetime.now().strftime(\"%Y-%m-%d_%H-%M-%S\")\n",
    "\n",
    "# Define filename with timestamp\n",
    "filename = f\"sampled_data_few_respondents{now}.csv\"\n",
    "\n",
    "# Save sampled_data to file\n",
    "sampled_data.to_csv('C:\\\\projects\\\\classifiers\\\\grade groups model\\\\models data and pickles\\\\' + filename, index=False)\n"
   ]
  },
  {
   "attachments": {},
   "cell_type": "markdown",
   "metadata": {},
   "source": [
    "<h2>Random Forest with Data Split by Respondent</h3>"
   ]
  },
  {
   "cell_type": "code",
   "execution_count": 39,
   "metadata": {},
   "outputs": [
    {
     "name": "stdout",
     "output_type": "stream",
     "text": [
      "Test accuracy: 0.2511\n"
     ]
    },
    {
     "ename": "ValueError",
     "evalue": "Found input variables with inconsistent numbers of samples: [20000, 16000]",
     "output_type": "error",
     "traceback": [
      "\u001b[1;31m---------------------------------------------------------------------------\u001b[0m",
      "\u001b[1;31mValueError\u001b[0m                                Traceback (most recent call last)",
      "Cell \u001b[1;32mIn[39], line 29\u001b[0m\n\u001b[0;32m     26\u001b[0m \u001b[39mprint\u001b[39m(\u001b[39m\"\u001b[39m\u001b[39mTest accuracy:\u001b[39m\u001b[39m\"\u001b[39m, accuracy)\n\u001b[0;32m     28\u001b[0m \u001b[39m# Evaluate the model\u001b[39;00m\n\u001b[1;32m---> 29\u001b[0m tn, fp, fn, tp \u001b[39m=\u001b[39m confusion_matrix(y_test, y_pred)\u001b[39m.\u001b[39mravel()\n\u001b[0;32m     31\u001b[0m \u001b[39m# Calculate TPR, FPR, TNR, FNR\u001b[39;00m\n\u001b[0;32m     32\u001b[0m tnr \u001b[39m=\u001b[39m tn \u001b[39m/\u001b[39m (tn \u001b[39m+\u001b[39m fp)\n",
      "File \u001b[1;32mc:\\Users\\user\\AppData\\Local\\Programs\\Python\\Python310\\lib\\site-packages\\sklearn\\metrics\\_classification.py:317\u001b[0m, in \u001b[0;36mconfusion_matrix\u001b[1;34m(y_true, y_pred, labels, sample_weight, normalize)\u001b[0m\n\u001b[0;32m    232\u001b[0m \u001b[39mdef\u001b[39;00m \u001b[39mconfusion_matrix\u001b[39m(\n\u001b[0;32m    233\u001b[0m     y_true, y_pred, \u001b[39m*\u001b[39m, labels\u001b[39m=\u001b[39m\u001b[39mNone\u001b[39;00m, sample_weight\u001b[39m=\u001b[39m\u001b[39mNone\u001b[39;00m, normalize\u001b[39m=\u001b[39m\u001b[39mNone\u001b[39;00m\n\u001b[0;32m    234\u001b[0m ):\n\u001b[0;32m    235\u001b[0m \u001b[39m    \u001b[39m\u001b[39m\"\"\"Compute confusion matrix to evaluate the accuracy of a classification.\u001b[39;00m\n\u001b[0;32m    236\u001b[0m \n\u001b[0;32m    237\u001b[0m \u001b[39m    By definition a confusion matrix :math:`C` is such that :math:`C_{i, j}`\u001b[39;00m\n\u001b[1;32m   (...)\u001b[0m\n\u001b[0;32m    315\u001b[0m \u001b[39m    (0, 2, 1, 1)\u001b[39;00m\n\u001b[0;32m    316\u001b[0m \u001b[39m    \"\"\"\u001b[39;00m\n\u001b[1;32m--> 317\u001b[0m     y_type, y_true, y_pred \u001b[39m=\u001b[39m _check_targets(y_true, y_pred)\n\u001b[0;32m    318\u001b[0m     \u001b[39mif\u001b[39;00m y_type \u001b[39mnot\u001b[39;00m \u001b[39min\u001b[39;00m (\u001b[39m\"\u001b[39m\u001b[39mbinary\u001b[39m\u001b[39m\"\u001b[39m, \u001b[39m\"\u001b[39m\u001b[39mmulticlass\u001b[39m\u001b[39m\"\u001b[39m):\n\u001b[0;32m    319\u001b[0m         \u001b[39mraise\u001b[39;00m \u001b[39mValueError\u001b[39;00m(\u001b[39m\"\u001b[39m\u001b[39m%s\u001b[39;00m\u001b[39m is not supported\u001b[39m\u001b[39m\"\u001b[39m \u001b[39m%\u001b[39m y_type)\n",
      "File \u001b[1;32mc:\\Users\\user\\AppData\\Local\\Programs\\Python\\Python310\\lib\\site-packages\\sklearn\\metrics\\_classification.py:86\u001b[0m, in \u001b[0;36m_check_targets\u001b[1;34m(y_true, y_pred)\u001b[0m\n\u001b[0;32m     59\u001b[0m \u001b[39mdef\u001b[39;00m \u001b[39m_check_targets\u001b[39m(y_true, y_pred):\n\u001b[0;32m     60\u001b[0m \u001b[39m    \u001b[39m\u001b[39m\"\"\"Check that y_true and y_pred belong to the same classification task.\u001b[39;00m\n\u001b[0;32m     61\u001b[0m \n\u001b[0;32m     62\u001b[0m \u001b[39m    This converts multiclass or binary types to a common shape, and raises a\u001b[39;00m\n\u001b[1;32m   (...)\u001b[0m\n\u001b[0;32m     84\u001b[0m \u001b[39m    y_pred : array or indicator matrix\u001b[39;00m\n\u001b[0;32m     85\u001b[0m \u001b[39m    \"\"\"\u001b[39;00m\n\u001b[1;32m---> 86\u001b[0m     check_consistent_length(y_true, y_pred)\n\u001b[0;32m     87\u001b[0m     type_true \u001b[39m=\u001b[39m type_of_target(y_true, input_name\u001b[39m=\u001b[39m\u001b[39m\"\u001b[39m\u001b[39my_true\u001b[39m\u001b[39m\"\u001b[39m)\n\u001b[0;32m     88\u001b[0m     type_pred \u001b[39m=\u001b[39m type_of_target(y_pred, input_name\u001b[39m=\u001b[39m\u001b[39m\"\u001b[39m\u001b[39my_pred\u001b[39m\u001b[39m\"\u001b[39m)\n",
      "File \u001b[1;32mc:\\Users\\user\\AppData\\Local\\Programs\\Python\\Python310\\lib\\site-packages\\sklearn\\utils\\validation.py:397\u001b[0m, in \u001b[0;36mcheck_consistent_length\u001b[1;34m(*arrays)\u001b[0m\n\u001b[0;32m    395\u001b[0m uniques \u001b[39m=\u001b[39m np\u001b[39m.\u001b[39munique(lengths)\n\u001b[0;32m    396\u001b[0m \u001b[39mif\u001b[39;00m \u001b[39mlen\u001b[39m(uniques) \u001b[39m>\u001b[39m \u001b[39m1\u001b[39m:\n\u001b[1;32m--> 397\u001b[0m     \u001b[39mraise\u001b[39;00m \u001b[39mValueError\u001b[39;00m(\n\u001b[0;32m    398\u001b[0m         \u001b[39m\"\u001b[39m\u001b[39mFound input variables with inconsistent numbers of samples: \u001b[39m\u001b[39m%r\u001b[39;00m\u001b[39m\"\u001b[39m\n\u001b[0;32m    399\u001b[0m         \u001b[39m%\u001b[39m [\u001b[39mint\u001b[39m(l) \u001b[39mfor\u001b[39;00m l \u001b[39min\u001b[39;00m lengths]\n\u001b[0;32m    400\u001b[0m     )\n",
      "\u001b[1;31mValueError\u001b[0m: Found input variables with inconsistent numbers of samples: [20000, 16000]"
     ]
    }
   ],
   "source": [
    "import pandas as pd\n",
    "from sklearn.model_selection import GroupShuffleSplit\n",
    "from sklearn.ensemble import RandomForestClassifier\n",
    "\n",
    "# Select only some features\n",
    "datatset = sampled_data[selected_columns + ['Grade Group', 'Respondent']]\n",
    "\n",
    "# Split the data into training and testing sets\n",
    "X = datatset.drop('Grade Group', axis=1)\n",
    "y = datatset['Grade Group']\n",
    "\n",
    "# Split the data based on respondent ID\n",
    "group_split = GroupShuffleSplit(n_splits=1, test_size=0.2, random_state=42)\n",
    "train_idx, test_idx = next(group_split.split(X, y, groups=datatset[\"Respondent\"]))\n",
    "\n",
    "# Split the data into training and test sets\n",
    "X_train, y_train = X.iloc[train_idx], y.iloc[train_idx]\n",
    "X_test, y_test = X.iloc[test_idx], y.iloc[test_idx]\n",
    "\n",
    "# Train a random forest classifier\n",
    "rf = RandomForestClassifier(n_estimators=100, random_state=42)\n",
    "rf.fit(X_train, y_train)\n",
    "\n",
    "# Evaluate the classifier on the test set\n",
    "accuracy = rf.score(X_test, y_test)\n",
    "print(\"Test accuracy:\", accuracy)\n"
   ]
  },
  {
   "cell_type": "code",
   "execution_count": 45,
   "metadata": {},
   "outputs": [
    {
     "name": "stdout",
     "output_type": "stream",
     "text": [
      "(60000, 12)\n",
      "(60000,)\n",
      "(20000,)\n",
      "(16000,)\n"
     ]
    },
    {
     "ename": "ValueError",
     "evalue": "Found input variables with inconsistent numbers of samples: [20000, 16000]",
     "output_type": "error",
     "traceback": [
      "\u001b[1;31m---------------------------------------------------------------------------\u001b[0m",
      "\u001b[1;31mValueError\u001b[0m                                Traceback (most recent call last)",
      "Cell \u001b[1;32mIn[45], line 7\u001b[0m\n\u001b[0;32m      4\u001b[0m \u001b[39mprint\u001b[39m(y_pred\u001b[39m.\u001b[39mshape)\n\u001b[0;32m      6\u001b[0m \u001b[39m# Evaluate the model\u001b[39;00m\n\u001b[1;32m----> 7\u001b[0m tn, fp, fn, tp \u001b[39m=\u001b[39m confusion_matrix(y_test, y_pred)\u001b[39m.\u001b[39mravel()\n\u001b[0;32m      9\u001b[0m \u001b[39m# Calculate TPR, FPR, TNR, FNR\u001b[39;00m\n\u001b[0;32m     10\u001b[0m tnr \u001b[39m=\u001b[39m tn \u001b[39m/\u001b[39m (tn \u001b[39m+\u001b[39m fp)\n",
      "File \u001b[1;32mc:\\Users\\user\\AppData\\Local\\Programs\\Python\\Python310\\lib\\site-packages\\sklearn\\metrics\\_classification.py:317\u001b[0m, in \u001b[0;36mconfusion_matrix\u001b[1;34m(y_true, y_pred, labels, sample_weight, normalize)\u001b[0m\n\u001b[0;32m    232\u001b[0m \u001b[39mdef\u001b[39;00m \u001b[39mconfusion_matrix\u001b[39m(\n\u001b[0;32m    233\u001b[0m     y_true, y_pred, \u001b[39m*\u001b[39m, labels\u001b[39m=\u001b[39m\u001b[39mNone\u001b[39;00m, sample_weight\u001b[39m=\u001b[39m\u001b[39mNone\u001b[39;00m, normalize\u001b[39m=\u001b[39m\u001b[39mNone\u001b[39;00m\n\u001b[0;32m    234\u001b[0m ):\n\u001b[0;32m    235\u001b[0m \u001b[39m    \u001b[39m\u001b[39m\"\"\"Compute confusion matrix to evaluate the accuracy of a classification.\u001b[39;00m\n\u001b[0;32m    236\u001b[0m \n\u001b[0;32m    237\u001b[0m \u001b[39m    By definition a confusion matrix :math:`C` is such that :math:`C_{i, j}`\u001b[39;00m\n\u001b[1;32m   (...)\u001b[0m\n\u001b[0;32m    315\u001b[0m \u001b[39m    (0, 2, 1, 1)\u001b[39;00m\n\u001b[0;32m    316\u001b[0m \u001b[39m    \"\"\"\u001b[39;00m\n\u001b[1;32m--> 317\u001b[0m     y_type, y_true, y_pred \u001b[39m=\u001b[39m _check_targets(y_true, y_pred)\n\u001b[0;32m    318\u001b[0m     \u001b[39mif\u001b[39;00m y_type \u001b[39mnot\u001b[39;00m \u001b[39min\u001b[39;00m (\u001b[39m\"\u001b[39m\u001b[39mbinary\u001b[39m\u001b[39m\"\u001b[39m, \u001b[39m\"\u001b[39m\u001b[39mmulticlass\u001b[39m\u001b[39m\"\u001b[39m):\n\u001b[0;32m    319\u001b[0m         \u001b[39mraise\u001b[39;00m \u001b[39mValueError\u001b[39;00m(\u001b[39m\"\u001b[39m\u001b[39m%s\u001b[39;00m\u001b[39m is not supported\u001b[39m\u001b[39m\"\u001b[39m \u001b[39m%\u001b[39m y_type)\n",
      "File \u001b[1;32mc:\\Users\\user\\AppData\\Local\\Programs\\Python\\Python310\\lib\\site-packages\\sklearn\\metrics\\_classification.py:86\u001b[0m, in \u001b[0;36m_check_targets\u001b[1;34m(y_true, y_pred)\u001b[0m\n\u001b[0;32m     59\u001b[0m \u001b[39mdef\u001b[39;00m \u001b[39m_check_targets\u001b[39m(y_true, y_pred):\n\u001b[0;32m     60\u001b[0m \u001b[39m    \u001b[39m\u001b[39m\"\"\"Check that y_true and y_pred belong to the same classification task.\u001b[39;00m\n\u001b[0;32m     61\u001b[0m \n\u001b[0;32m     62\u001b[0m \u001b[39m    This converts multiclass or binary types to a common shape, and raises a\u001b[39;00m\n\u001b[1;32m   (...)\u001b[0m\n\u001b[0;32m     84\u001b[0m \u001b[39m    y_pred : array or indicator matrix\u001b[39;00m\n\u001b[0;32m     85\u001b[0m \u001b[39m    \"\"\"\u001b[39;00m\n\u001b[1;32m---> 86\u001b[0m     check_consistent_length(y_true, y_pred)\n\u001b[0;32m     87\u001b[0m     type_true \u001b[39m=\u001b[39m type_of_target(y_true, input_name\u001b[39m=\u001b[39m\u001b[39m\"\u001b[39m\u001b[39my_true\u001b[39m\u001b[39m\"\u001b[39m)\n\u001b[0;32m     88\u001b[0m     type_pred \u001b[39m=\u001b[39m type_of_target(y_pred, input_name\u001b[39m=\u001b[39m\u001b[39m\"\u001b[39m\u001b[39my_pred\u001b[39m\u001b[39m\"\u001b[39m)\n",
      "File \u001b[1;32mc:\\Users\\user\\AppData\\Local\\Programs\\Python\\Python310\\lib\\site-packages\\sklearn\\utils\\validation.py:397\u001b[0m, in \u001b[0;36mcheck_consistent_length\u001b[1;34m(*arrays)\u001b[0m\n\u001b[0;32m    395\u001b[0m uniques \u001b[39m=\u001b[39m np\u001b[39m.\u001b[39munique(lengths)\n\u001b[0;32m    396\u001b[0m \u001b[39mif\u001b[39;00m \u001b[39mlen\u001b[39m(uniques) \u001b[39m>\u001b[39m \u001b[39m1\u001b[39m:\n\u001b[1;32m--> 397\u001b[0m     \u001b[39mraise\u001b[39;00m \u001b[39mValueError\u001b[39;00m(\n\u001b[0;32m    398\u001b[0m         \u001b[39m\"\u001b[39m\u001b[39mFound input variables with inconsistent numbers of samples: \u001b[39m\u001b[39m%r\u001b[39;00m\u001b[39m\"\u001b[39m\n\u001b[0;32m    399\u001b[0m         \u001b[39m%\u001b[39m [\u001b[39mint\u001b[39m(l) \u001b[39mfor\u001b[39;00m l \u001b[39min\u001b[39;00m lengths]\n\u001b[0;32m    400\u001b[0m     )\n",
      "\u001b[1;31mValueError\u001b[0m: Found input variables with inconsistent numbers of samples: [20000, 16000]"
     ]
    }
   ],
   "source": [
    "print(X_train.shape)\n",
    "print(y_train.shape)\n",
    "print(y_test.shape)\n",
    "print(y_pred.shape)\n",
    "\n",
    "# Evaluate the model\n",
    "tn, fp, fn, tp = confusion_matrix(y_test, y_pred).ravel()\n",
    "\n",
    "# Calculate TPR, FPR, TNR, FNR\n",
    "tnr = tn / (tn + fp)\n",
    "tpr = tp / (tp + fn)\n",
    "fnr = fn / (fn + tp)\n",
    "fpr = fp / (fp + tn)\n",
    "\n",
    "print('FPR: ', fpr)\n",
    "print('TPR: ', tpr)\n",
    "print('FNR: ', fnr)\n",
    "print('TNR: ', tnr)"
   ]
  },
  {
   "attachments": {},
   "cell_type": "markdown",
   "metadata": {},
   "source": [
    "<h3>Feature Importance</h3>"
   ]
  },
  {
   "cell_type": "code",
   "execution_count": 42,
   "metadata": {},
   "outputs": [
    {
     "data": {
      "image/png": "[encoded data removed]",
      "text/plain": [
       "<Figure size 1000x600 with 1 Axes>"
      ]
     },
     "metadata": {},
     "output_type": "display_data"
    }
   ],
   "source": [
    "# Get the feature importances\n",
    "importances = clf.feature_importances_\n",
    "features = X.columns\n",
    "\n",
    "# Sort the importances in descending order\n",
    "sorted_importances = sorted(zip(importances, features), reverse=True)\n",
    "\n",
    "# Extract the sorted feature importances and feature names\n",
    "sorted_feature_importances = [x[0] for x in sorted_importances]\n",
    "sorted_feature_names = [x[1] for x in sorted_importances]\n",
    "\n",
    "# Plot the feature importances\n",
    "plt.figure(figsize=(10, 6))\n",
    "sns.barplot(x=sorted_feature_names, y=sorted_feature_importances)\n",
    "plt.xticks(rotation=90)\n",
    "plt.xlabel('Feature')\n",
    "plt.ylabel('Importance')\n",
    "plt.title('Random Forest Feature Importances')\n",
    "plt.show()"
   ]
  }
 ],
 "metadata": {
  "kernelspec": {
   "display_name": "Python 3",
   "language": "python",
   "name": "python3"
  },
  "language_info": {
   "codemirror_mode": {
    "name": "ipython",
    "version": 3
   },
   "file_extension": ".py",
   "mimetype": "text/x-python",
   "name": "python",
   "nbconvert_exporter": "python",
   "pygments_lexer": "ipython3",
   "version": "3.10.4"
  },
  "orig_nbformat": 4
 },
 "nbformat": 4,
 "nbformat_minor": 2
}
