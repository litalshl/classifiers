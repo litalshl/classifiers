{
 "cells": [
  {
   "cell_type": "markdown",
   "metadata": {},
   "source": [
    "<h1>Statistical Analysis</h3>"
   ]
  },
  {
   "cell_type": "markdown",
   "metadata": {},
   "source": [
    "<h2>Load Data</h2>"
   ]
  },
  {
   "cell_type": "code",
   "execution_count": 22,
   "metadata": {},
   "outputs": [
    {
     "data": {
      "text/html": [
       "<div>\n",
       "<style scoped>\n",
       "    .dataframe tbody tr th:only-of-type {\n",
       "        vertical-align: middle;\n",
       "    }\n",
       "\n",
       "    .dataframe tbody tr th {\n",
       "        vertical-align: top;\n",
       "    }\n",
       "\n",
       "    .dataframe thead th {\n",
       "        text-align: right;\n",
       "    }\n",
       "</style>\n",
       "<table border=\"1\" class=\"dataframe\">\n",
       "  <thead>\n",
       "    <tr style=\"text-align: right;\">\n",
       "      <th></th>\n",
       "      <th>Unnamed: 0</th>\n",
       "      <th>Timestamp</th>\n",
       "      <th>Anger</th>\n",
       "      <th>Contempt</th>\n",
       "      <th>Disgust</th>\n",
       "      <th>Fear</th>\n",
       "      <th>Joy</th>\n",
       "      <th>Sadness</th>\n",
       "      <th>Surprise</th>\n",
       "      <th>Engagement</th>\n",
       "      <th>...</th>\n",
       "      <th>Fixation Dispersion</th>\n",
       "      <th>Saccade Duration</th>\n",
       "      <th>Saccade Amplitude</th>\n",
       "      <th>Saccade Peak Velocity</th>\n",
       "      <th>Saccade Peak Acceleration</th>\n",
       "      <th>Saccade Peak Deceleration</th>\n",
       "      <th>Saccade Direction</th>\n",
       "      <th>Respondent</th>\n",
       "      <th>Grade</th>\n",
       "      <th>Grade Group</th>\n",
       "    </tr>\n",
       "  </thead>\n",
       "  <tbody>\n",
       "    <tr>\n",
       "      <th>0</th>\n",
       "      <td>1</td>\n",
       "      <td>36109.900</td>\n",
       "      <td>NaN</td>\n",
       "      <td>NaN</td>\n",
       "      <td>NaN</td>\n",
       "      <td>NaN</td>\n",
       "      <td>NaN</td>\n",
       "      <td>NaN</td>\n",
       "      <td>NaN</td>\n",
       "      <td>NaN</td>\n",
       "      <td>...</td>\n",
       "      <td>NaN</td>\n",
       "      <td>887.4785</td>\n",
       "      <td>49.147195</td>\n",
       "      <td>385.177405</td>\n",
       "      <td>9959.550382</td>\n",
       "      <td>-7885.240429</td>\n",
       "      <td>187.258369</td>\n",
       "      <td>1</td>\n",
       "      <td>100</td>\n",
       "      <td>Above 55</td>\n",
       "    </tr>\n",
       "    <tr>\n",
       "      <th>1</th>\n",
       "      <td>2</td>\n",
       "      <td>36236.000</td>\n",
       "      <td>0.125566</td>\n",
       "      <td>0.186393</td>\n",
       "      <td>0.023706</td>\n",
       "      <td>0.125796</td>\n",
       "      <td>0.025453</td>\n",
       "      <td>0.125512</td>\n",
       "      <td>0.055428</td>\n",
       "      <td>0.328766</td>\n",
       "      <td>...</td>\n",
       "      <td>NaN</td>\n",
       "      <td>NaN</td>\n",
       "      <td>NaN</td>\n",
       "      <td>NaN</td>\n",
       "      <td>NaN</td>\n",
       "      <td>NaN</td>\n",
       "      <td>NaN</td>\n",
       "      <td>1</td>\n",
       "      <td>100</td>\n",
       "      <td>Above 55</td>\n",
       "    </tr>\n",
       "    <tr>\n",
       "      <th>2</th>\n",
       "      <td>3</td>\n",
       "      <td>36269.000</td>\n",
       "      <td>0.125833</td>\n",
       "      <td>0.186909</td>\n",
       "      <td>0.023738</td>\n",
       "      <td>0.126169</td>\n",
       "      <td>0.025312</td>\n",
       "      <td>0.125694</td>\n",
       "      <td>0.055510</td>\n",
       "      <td>0.328766</td>\n",
       "      <td>...</td>\n",
       "      <td>NaN</td>\n",
       "      <td>NaN</td>\n",
       "      <td>NaN</td>\n",
       "      <td>NaN</td>\n",
       "      <td>NaN</td>\n",
       "      <td>NaN</td>\n",
       "      <td>NaN</td>\n",
       "      <td>1</td>\n",
       "      <td>100</td>\n",
       "      <td>Above 55</td>\n",
       "    </tr>\n",
       "    <tr>\n",
       "      <th>3</th>\n",
       "      <td>4</td>\n",
       "      <td>36270.473</td>\n",
       "      <td>NaN</td>\n",
       "      <td>NaN</td>\n",
       "      <td>NaN</td>\n",
       "      <td>NaN</td>\n",
       "      <td>NaN</td>\n",
       "      <td>NaN</td>\n",
       "      <td>NaN</td>\n",
       "      <td>NaN</td>\n",
       "      <td>...</td>\n",
       "      <td>NaN</td>\n",
       "      <td>887.4785</td>\n",
       "      <td>49.147195</td>\n",
       "      <td>385.177405</td>\n",
       "      <td>9959.550382</td>\n",
       "      <td>-7885.240429</td>\n",
       "      <td>187.258369</td>\n",
       "      <td>1</td>\n",
       "      <td>100</td>\n",
       "      <td>Above 55</td>\n",
       "    </tr>\n",
       "    <tr>\n",
       "      <th>4</th>\n",
       "      <td>5</td>\n",
       "      <td>36301.000</td>\n",
       "      <td>0.126258</td>\n",
       "      <td>0.187818</td>\n",
       "      <td>0.023798</td>\n",
       "      <td>0.126605</td>\n",
       "      <td>0.025114</td>\n",
       "      <td>0.125970</td>\n",
       "      <td>0.055607</td>\n",
       "      <td>0.328766</td>\n",
       "      <td>...</td>\n",
       "      <td>NaN</td>\n",
       "      <td>NaN</td>\n",
       "      <td>NaN</td>\n",
       "      <td>NaN</td>\n",
       "      <td>NaN</td>\n",
       "      <td>NaN</td>\n",
       "      <td>NaN</td>\n",
       "      <td>1</td>\n",
       "      <td>100</td>\n",
       "      <td>Above 55</td>\n",
       "    </tr>\n",
       "  </tbody>\n",
       "</table>\n",
       "<p>5 rows × 53 columns</p>\n",
       "</div>"
      ],
      "text/plain": [
       "   Unnamed: 0  Timestamp     Anger  Contempt   Disgust      Fear       Joy  \\\n",
       "0           1  36109.900       NaN       NaN       NaN       NaN       NaN   \n",
       "1           2  36236.000  0.125566  0.186393  0.023706  0.125796  0.025453   \n",
       "2           3  36269.000  0.125833  0.186909  0.023738  0.126169  0.025312   \n",
       "3           4  36270.473       NaN       NaN       NaN       NaN       NaN   \n",
       "4           5  36301.000  0.126258  0.187818  0.023798  0.126605  0.025114   \n",
       "\n",
       "    Sadness  Surprise  Engagement  ...  Fixation Dispersion  Saccade Duration  \\\n",
       "0       NaN       NaN         NaN  ...                  NaN          887.4785   \n",
       "1  0.125512  0.055428    0.328766  ...                  NaN               NaN   \n",
       "2  0.125694  0.055510    0.328766  ...                  NaN               NaN   \n",
       "3       NaN       NaN         NaN  ...                  NaN          887.4785   \n",
       "4  0.125970  0.055607    0.328766  ...                  NaN               NaN   \n",
       "\n",
       "   Saccade Amplitude  Saccade Peak Velocity  Saccade Peak Acceleration  \\\n",
       "0          49.147195             385.177405                9959.550382   \n",
       "1                NaN                    NaN                        NaN   \n",
       "2                NaN                    NaN                        NaN   \n",
       "3          49.147195             385.177405                9959.550382   \n",
       "4                NaN                    NaN                        NaN   \n",
       "\n",
       "   Saccade Peak Deceleration  Saccade Direction  Respondent  Grade  \\\n",
       "0               -7885.240429         187.258369           1    100   \n",
       "1                        NaN                NaN           1    100   \n",
       "2                        NaN                NaN           1    100   \n",
       "3               -7885.240429         187.258369           1    100   \n",
       "4                        NaN                NaN           1    100   \n",
       "\n",
       "   Grade Group  \n",
       "0     Above 55  \n",
       "1     Above 55  \n",
       "2     Above 55  \n",
       "3     Above 55  \n",
       "4     Above 55  \n",
       "\n",
       "[5 rows x 53 columns]"
      ]
     },
     "execution_count": 22,
     "metadata": {},
     "output_type": "execute_result"
    }
   ],
   "source": [
    "import pandas as pd\n",
    "\n",
    "# Load data\n",
    "file_path = './facial_expressions_with_grade_groups_with_eye_tracking_march_2024.csv'\n",
    "facial_expression_data = df = pd.read_csv(file_path, low_memory=False)\n",
    "\n",
    "facial_expression_data.head()"
   ]
  },
  {
   "cell_type": "code",
   "execution_count": 23,
   "metadata": {},
   "outputs": [
    {
     "name": "stdout",
     "output_type": "stream",
     "text": [
      "   Unnamed: 0  Timestamp     Anger  Contempt   Disgust      Fear       Joy  \\\n",
      "0           1  36109.900  0.125566  0.186393  0.023706  0.125796  0.025453   \n",
      "1           3  36269.000  0.125833  0.186909  0.023738  0.126169  0.025312   \n",
      "2           5  36301.000  0.126258  0.187818  0.023798  0.126605  0.025114   \n",
      "3           7  36333.000  0.126290  0.188413  0.023834  0.126583  0.024996   \n",
      "4           9  36371.192  0.126344  0.188792  0.023866  0.126641  0.024909   \n",
      "\n",
      "    Sadness  Surprise  Engagement  ...  Fixation Dispersion  Saccade Duration  \\\n",
      "0  0.125512  0.055428    0.328766  ...                  NaN          887.4785   \n",
      "1  0.125694  0.055510    0.328766  ...                  NaN          887.4785   \n",
      "2  0.125970  0.055607    0.328766  ...                  NaN          887.4785   \n",
      "3  0.126124  0.055529    0.328766  ...                  NaN          887.4785   \n",
      "4  0.126202  0.055519    0.328766  ...                  NaN          887.4785   \n",
      "\n",
      "   Saccade Amplitude  Saccade Peak Velocity  Saccade Peak Acceleration  \\\n",
      "0          49.147195             385.177405                9959.550382   \n",
      "1          49.147195             385.177405                9959.550382   \n",
      "2          49.147195             385.177405                9959.550382   \n",
      "3          49.147195             385.177405                9959.550382   \n",
      "4          49.147195             385.177405                9959.550382   \n",
      "\n",
      "   Saccade Peak Deceleration  Saccade Direction  Respondent  Grade  \\\n",
      "0               -7885.240429         187.258369           1    100   \n",
      "1               -7885.240429         187.258369           1    100   \n",
      "2               -7885.240429         187.258369           1    100   \n",
      "3               -7885.240429         187.258369           1    100   \n",
      "4               -7885.240429         187.258369           1    100   \n",
      "\n",
      "   Grade Group  \n",
      "0     Above 55  \n",
      "1     Above 55  \n",
      "2     Above 55  \n",
      "3     Above 55  \n",
      "4     Above 55  \n",
      "\n",
      "[5 rows x 53 columns]\n"
     ]
    }
   ],
   "source": [
    "import pandas as pd\n",
    "import numpy as np\n",
    "\n",
    "# Sorting by respondent and timestamp\n",
    "facial_expression_data.sort_values(by=['Respondent', 'Timestamp'], inplace=True)\n",
    "\n",
    "# Function to merge every two rows for a given respondent\n",
    "def merge_two_rows(group):\n",
    "    new_rows = []\n",
    "    # Iterating over pairs of rows\n",
    "    for i in range(0, len(group), 2):\n",
    "        if i + 1 < len(group):  # Ensure there is a pair\n",
    "            row1 = group.iloc[i]\n",
    "            row2 = group.iloc[i + 1]\n",
    "            merged_row = row1.combine_first(row2)  # Combine two rows, taking the first non-NaN value\n",
    "            new_rows.append(merged_row)\n",
    "        else:  # If an odd row is left without a pair, just take it as is\n",
    "            new_rows.append(group.iloc[i])\n",
    "    return pd.DataFrame(new_rows)\n",
    "\n",
    "# Applying the function to each group\n",
    "merged_data = facial_expression_data.groupby('Respondent', as_index=False).apply(merge_two_rows).reset_index(drop=True)\n",
    "\n",
    "# Displaying some of the merged data\n",
    "print(merged_data.head())\n"
   ]
  },
  {
   "cell_type": "code",
   "execution_count": 26,
   "metadata": {},
   "outputs": [],
   "source": [
    "merged_data.to_csv('./datasets/merged_data_march_10_2024.csv')"
   ]
  },
  {
   "cell_type": "code",
   "execution_count": 24,
   "metadata": {},
   "outputs": [
    {
     "name": "stdout",
     "output_type": "stream",
     "text": [
      "Number of rows with at least one NaN: 625958\n"
     ]
    }
   ],
   "source": [
    "import pandas as pd\n",
    "\n",
    "# Count rows with at least one NaN\n",
    "rows_with_nan = merged_data.isnull().any(axis=1).sum()\n",
    "\n",
    "print(f'Number of rows with at least one NaN: {rows_with_nan}')\n"
   ]
  },
  {
   "cell_type": "code",
   "execution_count": 25,
   "metadata": {},
   "outputs": [
    {
     "name": "stdout",
     "output_type": "stream",
     "text": [
      "Total number of rows: 630607\n"
     ]
    }
   ],
   "source": [
    "# Get the total number of rows\n",
    "total_rows = merged_data.shape[0]\n",
    "\n",
    "print(f'Total number of rows: {total_rows}')\n"
   ]
  },
  {
   "cell_type": "markdown",
   "metadata": {},
   "source": [
    "<h3>Grades Frequency<h3>"
   ]
  },
  {
   "cell_type": "code",
   "execution_count": 27,
   "metadata": {},
   "outputs": [
    {
     "data": {
      "image/png": "[encoded data removed]",
      "text/plain": [
       "<Figure size 1000x600 with 1 Axes>"
      ]
     },
     "metadata": {},
     "output_type": "display_data"
    }
   ],
   "source": [
    "import matplotlib.pyplot as plt\n",
    "\n",
    "# Count the frequency of each grade\n",
    "grade_counts = merged_data['Grade'].value_counts()\n",
    "\n",
    "# Plotting the frequency diagram (bar chart) for grades\n",
    "plt.figure(figsize=(10, 6))\n",
    "grade_counts.plot(kind='bar')\n",
    "plt.title('Frequency Diagram for Grades')\n",
    "plt.xlabel('Grade')\n",
    "plt.ylabel('Frequency')\n",
    "plt.xticks(rotation=0)  # Keep the grade labels horizontal for readability\n",
    "plt.show()"
   ]
  },
  {
   "cell_type": "markdown",
   "metadata": {},
   "source": [
    "<h3>Frequency for 55 or Below and Above 55</h3>"
   ]
  },
  {
   "cell_type": "code",
   "execution_count": 28,
   "metadata": {},
   "outputs": [
    {
     "data": {
      "image/png": "[encoded data removed]",
      "text/plain": [
       "<Figure size 1000x600 with 1 Axes>"
      ]
     },
     "metadata": {},
     "output_type": "display_data"
    }
   ],
   "source": [
    "import matplotlib.pyplot as plt\n",
    "\n",
    "# Count the frequency of each grade\n",
    "grade_counts = merged_data['Grade Group'].value_counts()\n",
    "\n",
    "# Plotting the frequency diagram (bar chart) for grades\n",
    "plt.figure(figsize=(10, 6))\n",
    "grade_counts.plot(kind='bar')\n",
    "plt.title('Frequency Diagram for Grades Group')\n",
    "plt.xlabel('Grade')\n",
    "plt.ylabel('Frequency')\n",
    "plt.xticks(rotation=0)  # Keep the grade labels horizontal for readability\n",
    "plt.show()"
   ]
  },
  {
   "cell_type": "markdown",
   "metadata": {},
   "source": [
    "<h3>Wilcoxon Test for Session Duration</h3>"
   ]
  },
  {
   "cell_type": "code",
   "execution_count": 30,
   "metadata": {},
   "outputs": [
    {
     "name": "stdout",
     "output_type": "stream",
     "text": [
      "U statistic: 41.0, P-value: 0.3822843822843822\n"
     ]
    }
   ],
   "source": [
    "import pandas as pd\n",
    "import numpy as np\n",
    "from scipy.stats import mannwhitneyu\n",
    "\n",
    "# Calculate the count of data points for each respondent in each group\n",
    "data_points_count = facial_expression_data.groupby(['Respondent', 'Grade Group']).size().reset_index(name='counts')\n",
    "\n",
    "# Directly filter counts for each grade group\n",
    "group1_counts = data_points_count[data_points_count['Grade Group'] == 'Below 55']['counts']\n",
    "group2_counts = data_points_count[data_points_count['Grade Group'] == 'Above 55']['counts']\n",
    "\n",
    "# Perform the Mann-Whitney U test for unpaired samples\n",
    "u_statistic, p_value = mannwhitneyu(group1_counts, group2_counts)\n",
    "\n",
    "print(f'U statistic: {u_statistic}, P-value: {p_value}')\n"
   ]
  },
  {
   "cell_type": "markdown",
   "metadata": {},
   "source": [
    "<h5>There is no statistically significant difference in the session lengths between the two grade groups</h5>"
   ]
  }
 ],
 "metadata": {
  "kernelspec": {
   "display_name": "Python 3",
   "language": "python",
   "name": "python3"
  },
  "language_info": {
   "codemirror_mode": {
    "name": "ipython",
    "version": 3
   },
   "file_extension": ".py",
   "mimetype": "text/x-python",
   "name": "python",
   "nbconvert_exporter": "python",
   "pygments_lexer": "ipython3",
   "version": "3.10.4"
  }
 },
 "nbformat": 4,
 "nbformat_minor": 2
}
