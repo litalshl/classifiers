{
 "cells": [
  {
   "cell_type": "markdown",
   "metadata": {},
   "source": [
    "<h1>Full Sessionn Classifiers</h3>"
   ]
  },
  {
   "cell_type": "markdown",
   "metadata": {},
   "source": [
    "<h2>Load Data</h2>"
   ]
  },
  {
   "cell_type": "markdown",
   "metadata": {},
   "source": [
    "<h2>Mean Values per Respondent</h2>"
   ]
  },
  {
   "cell_type": "code",
   "execution_count": 1,
   "metadata": {},
   "outputs": [
    {
     "data": {
      "text/html": [
       "<div>\n",
       "<style scoped>\n",
       "    .dataframe tbody tr th:only-of-type {\n",
       "        vertical-align: middle;\n",
       "    }\n",
       "\n",
       "    .dataframe tbody tr th {\n",
       "        vertical-align: top;\n",
       "    }\n",
       "\n",
       "    .dataframe thead th {\n",
       "        text-align: right;\n",
       "    }\n",
       "</style>\n",
       "<table border=\"1\" class=\"dataframe\">\n",
       "  <thead>\n",
       "    <tr style=\"text-align: right;\">\n",
       "      <th></th>\n",
       "      <th>Unnamed: 0</th>\n",
       "      <th>Respondent</th>\n",
       "      <th>Anger</th>\n",
       "      <th>Contempt</th>\n",
       "      <th>Disgust</th>\n",
       "      <th>Fear</th>\n",
       "      <th>Joy</th>\n",
       "      <th>Sadness</th>\n",
       "      <th>Surprise</th>\n",
       "      <th>Engagement</th>\n",
       "      <th>...</th>\n",
       "      <th>Lip Suck</th>\n",
       "      <th>Lid Tighten</th>\n",
       "      <th>Mouth Open</th>\n",
       "      <th>Nose Wrinkle</th>\n",
       "      <th>Smile</th>\n",
       "      <th>Smirk</th>\n",
       "      <th>Upper Lip Raise</th>\n",
       "      <th>Blink</th>\n",
       "      <th>BlinkRate</th>\n",
       "      <th>Grade</th>\n",
       "    </tr>\n",
       "  </thead>\n",
       "  <tbody>\n",
       "    <tr>\n",
       "      <th>0</th>\n",
       "      <td>0</td>\n",
       "      <td>1</td>\n",
       "      <td>1.163229</td>\n",
       "      <td>0.254944</td>\n",
       "      <td>0.392873</td>\n",
       "      <td>1.440810</td>\n",
       "      <td>6.499545</td>\n",
       "      <td>0.268705</td>\n",
       "      <td>0.674075</td>\n",
       "      <td>22.516467</td>\n",
       "      <td>...</td>\n",
       "      <td>10.318576</td>\n",
       "      <td>1.194926</td>\n",
       "      <td>28.449007</td>\n",
       "      <td>0.893259</td>\n",
       "      <td>9.275257</td>\n",
       "      <td>0.482011</td>\n",
       "      <td>2.466853</td>\n",
       "      <td>0.010581</td>\n",
       "      <td>19.300548</td>\n",
       "      <td>100.0</td>\n",
       "    </tr>\n",
       "    <tr>\n",
       "      <th>1</th>\n",
       "      <td>1</td>\n",
       "      <td>2</td>\n",
       "      <td>1.544074</td>\n",
       "      <td>2.332416</td>\n",
       "      <td>0.481205</td>\n",
       "      <td>1.416028</td>\n",
       "      <td>0.570981</td>\n",
       "      <td>0.424949</td>\n",
       "      <td>1.505524</td>\n",
       "      <td>39.192416</td>\n",
       "      <td>...</td>\n",
       "      <td>7.177666</td>\n",
       "      <td>1.292952</td>\n",
       "      <td>55.497770</td>\n",
       "      <td>0.257819</td>\n",
       "      <td>0.701962</td>\n",
       "      <td>2.881101</td>\n",
       "      <td>0.724063</td>\n",
       "      <td>0.006212</td>\n",
       "      <td>14.053208</td>\n",
       "      <td>50.0</td>\n",
       "    </tr>\n",
       "    <tr>\n",
       "      <th>2</th>\n",
       "      <td>2</td>\n",
       "      <td>3</td>\n",
       "      <td>1.858315</td>\n",
       "      <td>0.574013</td>\n",
       "      <td>0.342346</td>\n",
       "      <td>2.387849</td>\n",
       "      <td>1.129676</td>\n",
       "      <td>0.135473</td>\n",
       "      <td>3.017969</td>\n",
       "      <td>35.443592</td>\n",
       "      <td>...</td>\n",
       "      <td>3.241353</td>\n",
       "      <td>0.229480</td>\n",
       "      <td>54.457716</td>\n",
       "      <td>0.036332</td>\n",
       "      <td>1.667142</td>\n",
       "      <td>1.828333</td>\n",
       "      <td>0.516913</td>\n",
       "      <td>0.002636</td>\n",
       "      <td>4.622152</td>\n",
       "      <td>55.0</td>\n",
       "    </tr>\n",
       "    <tr>\n",
       "      <th>3</th>\n",
       "      <td>3</td>\n",
       "      <td>4</td>\n",
       "      <td>1.167415</td>\n",
       "      <td>2.292135</td>\n",
       "      <td>0.699927</td>\n",
       "      <td>0.777726</td>\n",
       "      <td>3.815992</td>\n",
       "      <td>0.357908</td>\n",
       "      <td>0.299903</td>\n",
       "      <td>44.031246</td>\n",
       "      <td>...</td>\n",
       "      <td>10.321261</td>\n",
       "      <td>3.834506</td>\n",
       "      <td>63.257099</td>\n",
       "      <td>0.506664</td>\n",
       "      <td>4.671887</td>\n",
       "      <td>5.000366</td>\n",
       "      <td>2.341052</td>\n",
       "      <td>0.011138</td>\n",
       "      <td>19.542128</td>\n",
       "      <td>75.0</td>\n",
       "    </tr>\n",
       "    <tr>\n",
       "      <th>4</th>\n",
       "      <td>4</td>\n",
       "      <td>5</td>\n",
       "      <td>0.552830</td>\n",
       "      <td>3.125797</td>\n",
       "      <td>0.089759</td>\n",
       "      <td>0.258266</td>\n",
       "      <td>4.016242</td>\n",
       "      <td>1.487197</td>\n",
       "      <td>0.075457</td>\n",
       "      <td>16.701202</td>\n",
       "      <td>...</td>\n",
       "      <td>11.348795</td>\n",
       "      <td>2.433070</td>\n",
       "      <td>6.334755</td>\n",
       "      <td>0.728067</td>\n",
       "      <td>6.761394</td>\n",
       "      <td>9.708484</td>\n",
       "      <td>1.967552</td>\n",
       "      <td>0.005759</td>\n",
       "      <td>10.581087</td>\n",
       "      <td>65.0</td>\n",
       "    </tr>\n",
       "  </tbody>\n",
       "</table>\n",
       "<p>5 rows × 35 columns</p>\n",
       "</div>"
      ],
      "text/plain": [
       "   Unnamed: 0  Respondent     Anger  Contempt   Disgust      Fear       Joy  \\\n",
       "0           0           1  1.163229  0.254944  0.392873  1.440810  6.499545   \n",
       "1           1           2  1.544074  2.332416  0.481205  1.416028  0.570981   \n",
       "2           2           3  1.858315  0.574013  0.342346  2.387849  1.129676   \n",
       "3           3           4  1.167415  2.292135  0.699927  0.777726  3.815992   \n",
       "4           4           5  0.552830  3.125797  0.089759  0.258266  4.016242   \n",
       "\n",
       "    Sadness  Surprise  Engagement  ...   Lip Suck  Lid Tighten  Mouth Open  \\\n",
       "0  0.268705  0.674075   22.516467  ...  10.318576     1.194926   28.449007   \n",
       "1  0.424949  1.505524   39.192416  ...   7.177666     1.292952   55.497770   \n",
       "2  0.135473  3.017969   35.443592  ...   3.241353     0.229480   54.457716   \n",
       "3  0.357908  0.299903   44.031246  ...  10.321261     3.834506   63.257099   \n",
       "4  1.487197  0.075457   16.701202  ...  11.348795     2.433070    6.334755   \n",
       "\n",
       "   Nose Wrinkle     Smile     Smirk  Upper Lip Raise     Blink  BlinkRate  \\\n",
       "0      0.893259  9.275257  0.482011         2.466853  0.010581  19.300548   \n",
       "1      0.257819  0.701962  2.881101         0.724063  0.006212  14.053208   \n",
       "2      0.036332  1.667142  1.828333         0.516913  0.002636   4.622152   \n",
       "3      0.506664  4.671887  5.000366         2.341052  0.011138  19.542128   \n",
       "4      0.728067  6.761394  9.708484         1.967552  0.005759  10.581087   \n",
       "\n",
       "   Grade  \n",
       "0  100.0  \n",
       "1   50.0  \n",
       "2   55.0  \n",
       "3   75.0  \n",
       "4   65.0  \n",
       "\n",
       "[5 rows x 35 columns]"
      ]
     },
     "execution_count": 1,
     "metadata": {},
     "output_type": "execute_result"
    }
   ],
   "source": [
    "import pandas as pd\n",
    "\n",
    "# Load data\n",
    "file_path = './datasets/facial_mean_values_per_respondent_9_3_2024_2.csv'\n",
    "mean_data_from_file = df = pd.read_csv(file_path, low_memory=False)\n",
    "\n",
    "mean_data_from_file.head()"
   ]
  },
  {
   "cell_type": "code",
   "execution_count": 2,
   "metadata": {},
   "outputs": [],
   "source": [
    "# Add a new column to the combined_data_with_grades dataframe that indicates whether the grade is above or below 55\n",
    "mean_data_from_file['Grade Group'] = mean_data_from_file['Grade'].apply(lambda x: 'Above 55' if x > 55 else 'Below 55')\n"
   ]
  },
  {
   "cell_type": "markdown",
   "metadata": {},
   "source": [
    "<h3>Classifiers</h3>"
   ]
  },
  {
   "cell_type": "markdown",
   "metadata": {},
   "source": [
    "<h4>Logistic Regression</h4>"
   ]
  },
  {
   "cell_type": "code",
   "execution_count": 9,
   "metadata": {},
   "outputs": [
    {
     "name": "stdout",
     "output_type": "stream",
     "text": [
      "Cross-validation scores: [0.33333333 0.33333333 0.5        1.         0.        ]\n",
      "Mean cross-validation score: 0.4333333333333333\n",
      "Hold-out validation accuracy: 0.75\n"
     ]
    }
   ],
   "source": [
    "from sklearn.model_selection import train_test_split, cross_val_score\n",
    "from sklearn.linear_model import LogisticRegression\n",
    "from sklearn.preprocessing import StandardScaler\n",
    "from sklearn.pipeline import Pipeline\n",
    "from sklearn.metrics import accuracy_score\n",
    "import numpy as np\n",
    "\n",
    "\n",
    "# Separating features and target variable\n",
    "X = mean_data_from_file[[ 'Contempt', 'Smirk', 'Surprise', 'Joy', 'Smile', 'Sadness', 'BlinkRate']]  \n",
    "y = mean_data_from_file['Grade Group'] \n",
    "\n",
    "# Splitting the dataset into the Training set and Hold-out Validation set\n",
    "X_train, X_validation, y_train, y_validation = train_test_split(X, y, test_size=0.2, random_state=42) \n",
    "\n",
    "# Creating a logistic regression model pipeline with standard scaling\n",
    "model = Pipeline([\n",
    "    ('scaler', StandardScaler()),\n",
    "    ('logisticregression', LogisticRegression())\n",
    "])\n",
    "\n",
    "# Applying cross-validation on the Training set\n",
    "scores = cross_val_score(model, X_train, y_train, cv=5)  # 5-fold cross-validation\n",
    "print(f'Cross-validation scores: {scores}')\n",
    "print(f'Mean cross-validation score: {np.mean(scores)}')\n",
    "\n",
    "# Training the model on the entire Training set\n",
    "model.fit(X_train, y_train)\n",
    "\n",
    "# Predicting the Hold-out Validation set results\n",
    "y_pred = model.predict(X_validation)\n",
    "\n",
    "# Calculating the accuracy on the Hold-out Validation set\n",
    "accuracy = accuracy_score(y_validation, y_pred)\n",
    "print(f'Hold-out validation accuracy: {accuracy}')\n"
   ]
  },
  {
   "cell_type": "code",
   "execution_count": 10,
   "metadata": {},
   "outputs": [
    {
     "data": {
      "image/png": "[encoded data removed]",
      "text/plain": [
       "<Figure size 640x480 with 1 Axes>"
      ]
     },
     "metadata": {},
     "output_type": "display_data"
    }
   ],
   "source": [
    "import matplotlib.pyplot as plt\n",
    "\n",
    "model.fit(X_train, y_train)  \n",
    "\n",
    "# Access the logistic regression instance from the pipeline (assuming it's the last step)\n",
    "logreg = model.named_steps['logisticregression']\n",
    "\n",
    "# Get feature names\n",
    "feature_names = X.columns\n",
    "\n",
    "# Get and display feature importances\n",
    "importance = logreg.coef_[0]\n",
    "\n",
    "# Sort features by importance\n",
    "sorted_idx = np.argsort(importance)\n",
    "\n",
    "plt.title('Feature Importance')\n",
    "plt.barh(range(len(sorted_idx)), importance[sorted_idx], align='center')\n",
    "plt.yticks(range(len(sorted_idx)), feature_names[sorted_idx])\n",
    "plt.xlabel('Importance')\n",
    "plt.show()\n"
   ]
  },
  {
   "cell_type": "code",
   "execution_count": 19,
   "metadata": {},
   "outputs": [
    {
     "data": {
      "text/plain": [
       "['LogisticRegression_full_session_classifier.joblib']"
      ]
     },
     "execution_count": 19,
     "metadata": {},
     "output_type": "execute_result"
    }
   ],
   "source": [
    "from joblib import dump\n",
    "\n",
    "# Save the model to file\n",
    "dump(model, 'LogisticRegression_full_session_classifier.joblib')"
   ]
  },
  {
   "cell_type": "markdown",
   "metadata": {},
   "source": [
    "<h3>Random Forest for Grade Group</h3>"
   ]
  },
  {
   "cell_type": "code",
   "execution_count": 20,
   "metadata": {},
   "outputs": [
    {
     "name": "stdout",
     "output_type": "stream",
     "text": [
      "Accuracy: 1.0\n"
     ]
    }
   ],
   "source": [
    "from sklearn.ensemble import RandomForestClassifier\n",
    "from sklearn.model_selection import train_test_split\n",
    "from sklearn.metrics import accuracy_score\n",
    "\n",
    "# List of columns to use as features\n",
    "features_list = ['Contempt', 'Smirk', 'Surprise', 'Joy', 'Smile', 'Sadness', 'BlinkRate']\n",
    "\n",
    "# Selecting the features and target from the DataFrame\n",
    "X = mean_data_from_file[features_list]\n",
    "y = mean_data_from_file['Grade Group']  # Assuming 'Grade Group' is your target variable for classification\n",
    "\n",
    "# Splitting the dataset into training and testing sets\n",
    "X_train, X_test, y_train, y_test = train_test_split(X, y, test_size=0.3, random_state=42)\n",
    "\n",
    "# Initialize the RandomForestClassifier directly\n",
    "rf_classifier = RandomForestClassifier(n_estimators=100, random_state=42)\n",
    "\n",
    "# Fit the RandomForestClassifier on the training data\n",
    "rf_classifier.fit(X_train, y_train)\n",
    "\n",
    "# Make predictions on the test set\n",
    "y_pred = rf_classifier.predict(X_test)\n",
    "\n",
    "# Evaluate the RandomForestClassifier\n",
    "accuracy = accuracy_score(y_test, y_pred)\n",
    "print(f\"Accuracy: {accuracy}\")\n"
   ]
  },
  {
   "cell_type": "code",
   "execution_count": 21,
   "metadata": {},
   "outputs": [
    {
     "name": "stdout",
     "output_type": "stream",
     "text": [
      "['Contempt' 'Smirk' 'Surprise' 'Joy' 'Smile' 'Sadness' 'BlinkRate']\n"
     ]
    }
   ],
   "source": [
    "print(rf_classifier.feature_names_in_)"
   ]
  },
  {
   "cell_type": "code",
   "execution_count": 22,
   "metadata": {},
   "outputs": [
    {
     "data": {
      "image/png": "[encoded data removed]",
      "text/plain": [
       "<Figure size 640x480 with 2 Axes>"
      ]
     },
     "metadata": {},
     "output_type": "display_data"
    },
    {
     "name": "stdout",
     "output_type": "stream",
     "text": [
      "Classification Report:\n",
      "               precision    recall  f1-score   support\n",
      "\n",
      "    Above 55       1.00      1.00      1.00         2\n",
      "    Below 55       1.00      1.00      1.00         3\n",
      "\n",
      "    accuracy                           1.00         5\n",
      "   macro avg       1.00      1.00      1.00         5\n",
      "weighted avg       1.00      1.00      1.00         5\n",
      "\n"
     ]
    }
   ],
   "source": [
    "from sklearn.metrics import classification_report, confusion_matrix, roc_curve, roc_auc_score\n",
    "import matplotlib.pyplot as plt\n",
    "import seaborn as sns\n",
    "\n",
    "\n",
    "# Confusion Matrix\n",
    "cm = confusion_matrix(y_test, y_pred)\n",
    "\n",
    "labels = ['Below or Equals 55', 'Above 55']\n",
    "\n",
    "# Plotting the confusion matrix\n",
    "sns.heatmap(cm, annot=True, fmt=\"d\", cmap=\"Blues\", xticklabels=labels, yticklabels=labels)\n",
    "plt.title(\"Confusion Matrix\")\n",
    "plt.xlabel(\"Predicted Label\")\n",
    "plt.ylabel(\"True Label\")\n",
    "plt.show()\n",
    "\n",
    "# Classification Report (Precision, Recall, F1-Score)\n",
    "report = classification_report(y_test, y_pred)\n",
    "print(\"Classification Report:\\n\", report)\n"
   ]
  },
  {
   "cell_type": "code",
   "execution_count": 16,
   "metadata": {},
   "outputs": [
    {
     "data": {
      "text/plain": [
       "['rf_full_session_classifier.joblib']"
      ]
     },
     "execution_count": 16,
     "metadata": {},
     "output_type": "execute_result"
    }
   ],
   "source": [
    "from joblib import dump\n",
    "\n",
    "# Save the model to file\n",
    "dump(rf_classifier, 'rf_full_session_classifier.joblib')\n"
   ]
  },
  {
   "cell_type": "code",
   "execution_count": 23,
   "metadata": {},
   "outputs": [
    {
     "name": "stdout",
     "output_type": "stream",
     "text": [
      "Accuracy scores for each fold: [0.66666667 1.         1.         0.5        1.         1.\n",
      " 0.5       ]\n",
      "Mean cross-validation accuracy: 0.8095238095238094\n"
     ]
    }
   ],
   "source": [
    "from sklearn.model_selection import cross_val_score, StratifiedKFold\n",
    "\n",
    "# Define Stratified K-Fold cross-validator\n",
    "# To approximate a 70/30 split, you can use about 3 folds (since 1/3 is approximately 0.33, close to 30%)\n",
    "skf = StratifiedKFold(n_splits=7, shuffle=True, random_state=42)\n",
    "\n",
    "# Perform cross-validation and calculate accuracy\n",
    "# Note: You might want to use scoring='accuracy' or another relevant metric based on your problem\n",
    "scores = cross_val_score(rf_classifier, X, y, cv=skf, scoring='accuracy')\n",
    "\n",
    "print(f\"Accuracy scores for each fold: {scores}\")\n",
    "print(f\"Mean cross-validation accuracy: {np.mean(scores)}\")"
   ]
  },
  {
   "cell_type": "code",
   "execution_count": 25,
   "metadata": {},
   "outputs": [
    {
     "data": {
      "image/png": "[encoded data removed]",
      "text/plain": [
       "<Figure size 1000x500 with 1 Axes>"
      ]
     },
     "metadata": {},
     "output_type": "display_data"
    }
   ],
   "source": [
    "import matplotlib.pyplot as plt\n",
    "import numpy as np\n",
    "\n",
    "# Get feature importances from the RandomForestClassifier\n",
    "importances = rf_classifier.feature_importances_\n",
    "\n",
    "# Sort the feature importances in descending order\n",
    "indices = np.argsort(importances)[::-1]\n",
    "\n",
    "# Rearrange feature names so they match the sorted feature importances\n",
    "names = [features_list[i] for i in indices]\n",
    "\n",
    "# Create the plot\n",
    "plt.figure(figsize=(10, 5))\n",
    "plt.title(\"Feature Importance\")\n",
    "plt.bar(range(len(importances)), importances[indices], align='center')\n",
    "plt.xticks(range(len(importances)), names, rotation=90)\n",
    "plt.xlabel('Feature')\n",
    "plt.ylabel('Importance')\n",
    "plt.show()\n"
   ]
  },
  {
   "cell_type": "markdown",
   "metadata": {},
   "source": [
    "<h3>Decision Tree Classifier</h3>"
   ]
  },
  {
   "cell_type": "code",
   "execution_count": 30,
   "metadata": {},
   "outputs": [
    {
     "name": "stdout",
     "output_type": "stream",
     "text": [
      "Accuracy: 0.6\n"
     ]
    }
   ],
   "source": [
    "from sklearn.tree import DecisionTreeClassifier\n",
    "from sklearn.model_selection import train_test_split\n",
    "from sklearn.metrics import accuracy_score\n",
    "\n",
    "# List of columns to use as features\n",
    "features_list = ['Contempt', 'Smirk', 'Surprise', 'Joy', 'Smile', 'Sadness', 'BlinkRate']\n",
    "\n",
    "# Selecting the features and target from the DataFrame\n",
    "X = mean_data_from_file[features_list]\n",
    "y = mean_data_from_file['Grade Group']\n",
    "\n",
    "# Splitting the dataset into training and testing sets\n",
    "X_train, X_test, y_train, y_test = train_test_split(X, y, test_size=0.3, random_state=123, stratify=y)\n",
    "\n",
    "# Initialize the model directly with DecisionTreeClassifier, without StandardScaler\n",
    "dt_classifier = DecisionTreeClassifier(random_state=42)\n",
    "\n",
    "# Fit the model on the training data\n",
    "dt_classifier.fit(X_train, y_train)\n",
    "\n",
    "# Make predictions on the test set\n",
    "y_pred = dt_classifier.predict(X_test)\n",
    "\n",
    "# Evaluate the model\n",
    "accuracy = accuracy_score(y_test, y_pred)\n",
    "print(f\"Accuracy: {accuracy}\")\n"
   ]
  },
  {
   "cell_type": "code",
   "execution_count": 31,
   "metadata": {},
   "outputs": [
    {
     "name": "stdout",
     "output_type": "stream",
     "text": [
      "Accuracy scores for each fold: [0.66666667 0.         1.         0.5        0.5        1.\n",
      " 0.5       ]\n",
      "Mean cross-validation accuracy: 0.5952380952380951\n"
     ]
    }
   ],
   "source": [
    "from sklearn.model_selection import cross_val_score, StratifiedKFold\n",
    "\n",
    "# Define Stratified K-Fold cross-validator\n",
    "# To approximate a 70/30 split, you can use about 3 folds (since 1/3 is approximately 0.33, close to 30%)\n",
    "skf = StratifiedKFold(n_splits=7, shuffle=True, random_state=42)\n",
    "\n",
    "# Perform cross-validation and calculate accuracy\n",
    "# Note: You might want to use scoring='accuracy' or another relevant metric based on your problem\n",
    "scores = cross_val_score(dt_classifier, X, y, cv=skf, scoring='accuracy')\n",
    "\n",
    "print(f\"Accuracy scores for each fold: {scores}\")\n",
    "print(f\"Mean cross-validation accuracy: {np.mean(scores)}\")"
   ]
  },
  {
   "cell_type": "code",
   "execution_count": 28,
   "metadata": {},
   "outputs": [
    {
     "name": "stdout",
     "output_type": "stream",
     "text": [
      "|--- Sadness <= 0.47\n",
      "|   |--- Surprise <= 1.09\n",
      "|   |   |--- class: Above 55\n",
      "|   |--- Surprise >  1.09\n",
      "|   |   |--- Sadness <= 0.43\n",
      "|   |   |   |--- class: Below 55\n",
      "|   |   |--- Sadness >  0.43\n",
      "|   |   |   |--- class: Above 55\n",
      "|--- Sadness >  0.47\n",
      "|   |--- class: Below 55\n",
      "\n"
     ]
    }
   ],
   "source": [
    "from sklearn.tree import export_text\n",
    "\n",
    "tree_rules = export_text(dt_classifier, feature_names=['Contempt', 'Smirk', 'Surprise', 'Joy', 'Smile', 'Sadness', 'BlinkRate'])\n",
    "print(tree_rules)"
   ]
  },
  {
   "cell_type": "code",
   "execution_count": 32,
   "metadata": {},
   "outputs": [
    {
     "data": {
      "text/plain": [
       "['dt_classifier.joblib']"
      ]
     },
     "execution_count": 32,
     "metadata": {},
     "output_type": "execute_result"
    }
   ],
   "source": [
    "from joblib import dump\n",
    "\n",
    "# Save the model to file\n",
    "dump(dt_classifier, 'dt_classifier.joblib')\n"
   ]
  },
  {
   "cell_type": "markdown",
   "metadata": {},
   "source": [
    "<h3>Naive Bayes</h3>"
   ]
  },
  {
   "cell_type": "code",
   "execution_count": 66,
   "metadata": {},
   "outputs": [
    {
     "name": "stdout",
     "output_type": "stream",
     "text": [
      "Accuracy: 1.0\n"
     ]
    }
   ],
   "source": [
    "from sklearn.model_selection import train_test_split\n",
    "from sklearn.naive_bayes import GaussianNB\n",
    "from sklearn.metrics import accuracy_score\n",
    "\n",
    "# List of columns to use as features\n",
    "features_list = [ 'Smirk', 'Surprise', 'Joy', 'Smile', 'Sadness', 'BlinkRate']\n",
    "\n",
    "# Selecting the features and target from the DataFrame\n",
    "X = mean_data_from_file[features_list]\n",
    "y = mean_data_from_file['Grade Group']\n",
    "\n",
    "# Splitting the dataset into training and testing sets\n",
    "X_train, X_test, y_train, y_test = train_test_split(X, y, test_size=0.3, random_state=42)\n",
    "\n",
    "# Initializing the Gaussian Naive Bayes classifier\n",
    "gnb = GaussianNB()\n",
    "\n",
    "# Fitting the model on the training data\n",
    "gnb.fit(X_train, y_train)\n",
    "\n",
    "# Making predictions on the test set\n",
    "y_pred = gnb.predict(X_test)\n",
    "\n",
    "# Evaluating the model\n",
    "accuracy = accuracy_score(y_test, y_pred)\n",
    "print(f'Accuracy: {accuracy}')"
   ]
  },
  {
   "cell_type": "code",
   "execution_count": 67,
   "metadata": {},
   "outputs": [
    {
     "name": "stdout",
     "output_type": "stream",
     "text": [
      "Accuracy scores for each fold: [0.33333333 0.33333333 0.5        1.         0.5        1.\n",
      " 0.5       ]\n",
      "Mean cross-validation accuracy: 0.5952380952380951\n"
     ]
    }
   ],
   "source": [
    "from sklearn.model_selection import cross_val_score, StratifiedKFold\n",
    "\n",
    "# Define Stratified K-Fold cross-validator\n",
    "# To approximate a 70/30 split, you can use about 3 folds (since 1/3 is approximately 0.33, close to 30%)\n",
    "skf = StratifiedKFold(n_splits=7, shuffle=True, random_state=42)\n",
    "\n",
    "# Perform cross-validation and calculate accuracy\n",
    "# Note: You might want to use scoring='accuracy' or another relevant metric based on your problem\n",
    "scores = cross_val_score(gnb, X, y, cv=skf, scoring='accuracy')\n",
    "\n",
    "print(f\"Accuracy scores for each fold: {scores}\")\n",
    "print(f\"Mean cross-validation accuracy: {np.mean(scores)}\")"
   ]
  },
  {
   "cell_type": "code",
   "execution_count": 68,
   "metadata": {},
   "outputs": [
    {
     "name": "stdout",
     "output_type": "stream",
     "text": [
      "Mean of features per class: [[ 3.61920871  2.09240636  1.73068044  3.08149425  0.7371144  14.15807348]\n",
      " [ 4.15193851  1.29378842  1.96593892  3.0377605   1.027397   10.30487074]]\n"
     ]
    }
   ],
   "source": [
    "# After fitting a GaussianNB model `gnb`:\n",
    "print(\"Mean of features per class:\", gnb.theta_)\n"
   ]
  },
  {
   "cell_type": "code",
   "execution_count": 69,
   "metadata": {},
   "outputs": [
    {
     "data": {
      "text/plain": [
       "['NB_model.joblib']"
      ]
     },
     "execution_count": 69,
     "metadata": {},
     "output_type": "execute_result"
    }
   ],
   "source": [
    "from joblib import dump\n",
    "\n",
    "# Save the model to file\n",
    "dump(gnb, 'NB_model.joblib')\n"
   ]
  }
 ],
 "metadata": {
  "kernelspec": {
   "display_name": "Python 3",
   "language": "python",
   "name": "python3"
  },
  "language_info": {
   "codemirror_mode": {
    "name": "ipython",
    "version": 3
   },
   "file_extension": ".py",
   "mimetype": "text/x-python",
   "name": "python",
   "nbconvert_exporter": "python",
   "pygments_lexer": "ipython3",
   "version": "3.10.4"
  }
 },
 "nbformat": 4,
 "nbformat_minor": 2
}
