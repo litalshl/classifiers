{
 "cells": [
  {
   "cell_type": "markdown",
   "metadata": {},
   "source": [
    "<h1>Statistical Analysis</h3>"
   ]
  },
  {
   "cell_type": "markdown",
   "metadata": {},
   "source": [
    "<h2>Load Data</h2>"
   ]
  },
  {
   "cell_type": "markdown",
   "metadata": {},
   "source": [
    "<h2>Mean Values per Respondent - first 5 minutes</h2>"
   ]
  },
  {
   "cell_type": "code",
   "execution_count": 26,
   "metadata": {},
   "outputs": [
    {
     "data": {
      "text/html": [
       "<div>\n",
       "<style scoped>\n",
       "    .dataframe tbody tr th:only-of-type {\n",
       "        vertical-align: middle;\n",
       "    }\n",
       "\n",
       "    .dataframe tbody tr th {\n",
       "        vertical-align: top;\n",
       "    }\n",
       "\n",
       "    .dataframe thead th {\n",
       "        text-align: right;\n",
       "    }\n",
       "</style>\n",
       "<table border=\"1\" class=\"dataframe\">\n",
       "  <thead>\n",
       "    <tr style=\"text-align: right;\">\n",
       "      <th></th>\n",
       "      <th>Row</th>\n",
       "      <th>Timestamp</th>\n",
       "      <th>Anger</th>\n",
       "      <th>Contempt</th>\n",
       "      <th>Disgust</th>\n",
       "      <th>Fear</th>\n",
       "      <th>Joy</th>\n",
       "      <th>Sadness</th>\n",
       "      <th>Surprise</th>\n",
       "      <th>Engagement</th>\n",
       "      <th>...</th>\n",
       "      <th>Unnamed: 61</th>\n",
       "      <th>Unnamed: 62</th>\n",
       "      <th>Unnamed: 63</th>\n",
       "      <th>Unnamed: 64</th>\n",
       "      <th>Unnamed: 65</th>\n",
       "      <th>Unnamed: 66</th>\n",
       "      <th>Unnamed: 67</th>\n",
       "      <th>Unnamed: 68</th>\n",
       "      <th>Unnamed: 69</th>\n",
       "      <th>Unnamed: 70</th>\n",
       "    </tr>\n",
       "  </thead>\n",
       "  <tbody>\n",
       "    <tr>\n",
       "      <th>0</th>\n",
       "      <td>1.0</td>\n",
       "      <td>0.0</td>\n",
       "      <td>0.130529</td>\n",
       "      <td>0.194582</td>\n",
       "      <td>0.024394</td>\n",
       "      <td>0.129004</td>\n",
       "      <td>0.024742</td>\n",
       "      <td>0.130141</td>\n",
       "      <td>0.056362</td>\n",
       "      <td>0.328766</td>\n",
       "      <td>...</td>\n",
       "      <td>NaN</td>\n",
       "      <td>NaN</td>\n",
       "      <td>NaN</td>\n",
       "      <td>NaN</td>\n",
       "      <td>NaN</td>\n",
       "      <td>NaN</td>\n",
       "      <td>NaN</td>\n",
       "      <td>NaN</td>\n",
       "      <td>NaN</td>\n",
       "      <td>NaN</td>\n",
       "    </tr>\n",
       "    <tr>\n",
       "      <th>1</th>\n",
       "      <td>3.0</td>\n",
       "      <td>33.0</td>\n",
       "      <td>0.130884</td>\n",
       "      <td>0.193443</td>\n",
       "      <td>0.024547</td>\n",
       "      <td>0.130436</td>\n",
       "      <td>0.025172</td>\n",
       "      <td>0.129138</td>\n",
       "      <td>0.057480</td>\n",
       "      <td>0.328766</td>\n",
       "      <td>...</td>\n",
       "      <td>NaN</td>\n",
       "      <td>NaN</td>\n",
       "      <td>NaN</td>\n",
       "      <td>NaN</td>\n",
       "      <td>NaN</td>\n",
       "      <td>NaN</td>\n",
       "      <td>NaN</td>\n",
       "      <td>NaN</td>\n",
       "      <td>NaN</td>\n",
       "      <td>NaN</td>\n",
       "    </tr>\n",
       "    <tr>\n",
       "      <th>2</th>\n",
       "      <td>4.0</td>\n",
       "      <td>66.0</td>\n",
       "      <td>0.130706</td>\n",
       "      <td>0.193106</td>\n",
       "      <td>0.024504</td>\n",
       "      <td>0.130593</td>\n",
       "      <td>0.025579</td>\n",
       "      <td>0.129134</td>\n",
       "      <td>0.057617</td>\n",
       "      <td>0.328766</td>\n",
       "      <td>...</td>\n",
       "      <td>NaN</td>\n",
       "      <td>NaN</td>\n",
       "      <td>NaN</td>\n",
       "      <td>NaN</td>\n",
       "      <td>NaN</td>\n",
       "      <td>NaN</td>\n",
       "      <td>NaN</td>\n",
       "      <td>NaN</td>\n",
       "      <td>NaN</td>\n",
       "      <td>NaN</td>\n",
       "    </tr>\n",
       "    <tr>\n",
       "      <th>3</th>\n",
       "      <td>5.0</td>\n",
       "      <td>100.0</td>\n",
       "      <td>0.131150</td>\n",
       "      <td>0.193001</td>\n",
       "      <td>0.024548</td>\n",
       "      <td>0.131116</td>\n",
       "      <td>0.025576</td>\n",
       "      <td>0.129335</td>\n",
       "      <td>0.057678</td>\n",
       "      <td>0.328766</td>\n",
       "      <td>...</td>\n",
       "      <td>NaN</td>\n",
       "      <td>NaN</td>\n",
       "      <td>NaN</td>\n",
       "      <td>NaN</td>\n",
       "      <td>NaN</td>\n",
       "      <td>NaN</td>\n",
       "      <td>NaN</td>\n",
       "      <td>NaN</td>\n",
       "      <td>NaN</td>\n",
       "      <td>NaN</td>\n",
       "    </tr>\n",
       "    <tr>\n",
       "      <th>4</th>\n",
       "      <td>6.0</td>\n",
       "      <td>133.0</td>\n",
       "      <td>0.131343</td>\n",
       "      <td>0.192958</td>\n",
       "      <td>0.024694</td>\n",
       "      <td>0.131147</td>\n",
       "      <td>0.025620</td>\n",
       "      <td>0.129467</td>\n",
       "      <td>0.057552</td>\n",
       "      <td>0.328766</td>\n",
       "      <td>...</td>\n",
       "      <td>NaN</td>\n",
       "      <td>NaN</td>\n",
       "      <td>NaN</td>\n",
       "      <td>NaN</td>\n",
       "      <td>NaN</td>\n",
       "      <td>NaN</td>\n",
       "      <td>NaN</td>\n",
       "      <td>NaN</td>\n",
       "      <td>NaN</td>\n",
       "      <td>NaN</td>\n",
       "    </tr>\n",
       "  </tbody>\n",
       "</table>\n",
       "<p>5 rows × 143 columns</p>\n",
       "</div>"
      ],
      "text/plain": [
       "   Row  Timestamp     Anger  Contempt   Disgust      Fear       Joy   Sadness  \\\n",
       "0  1.0        0.0  0.130529  0.194582  0.024394  0.129004  0.024742  0.130141   \n",
       "1  3.0       33.0  0.130884  0.193443  0.024547  0.130436  0.025172  0.129138   \n",
       "2  4.0       66.0  0.130706  0.193106  0.024504  0.130593  0.025579  0.129134   \n",
       "3  5.0      100.0  0.131150  0.193001  0.024548  0.131116  0.025576  0.129335   \n",
       "4  6.0      133.0  0.131343  0.192958  0.024694  0.131147  0.025620  0.129467   \n",
       "\n",
       "   Surprise  Engagement  ...  Unnamed: 61  Unnamed: 62  Unnamed: 63  \\\n",
       "0  0.056362    0.328766  ...          NaN          NaN          NaN   \n",
       "1  0.057480    0.328766  ...          NaN          NaN          NaN   \n",
       "2  0.057617    0.328766  ...          NaN          NaN          NaN   \n",
       "3  0.057678    0.328766  ...          NaN          NaN          NaN   \n",
       "4  0.057552    0.328766  ...          NaN          NaN          NaN   \n",
       "\n",
       "   Unnamed: 64  Unnamed: 65  Unnamed: 66  Unnamed: 67  Unnamed: 68  \\\n",
       "0          NaN          NaN          NaN          NaN          NaN   \n",
       "1          NaN          NaN          NaN          NaN          NaN   \n",
       "2          NaN          NaN          NaN          NaN          NaN   \n",
       "3          NaN          NaN          NaN          NaN          NaN   \n",
       "4          NaN          NaN          NaN          NaN          NaN   \n",
       "\n",
       "   Unnamed: 69  Unnamed: 70  \n",
       "0          NaN          NaN  \n",
       "1          NaN          NaN  \n",
       "2          NaN          NaN  \n",
       "3          NaN          NaN  \n",
       "4          NaN          NaN  \n",
       "\n",
       "[5 rows x 143 columns]"
      ]
     },
     "execution_count": 26,
     "metadata": {},
     "output_type": "execute_result"
    }
   ],
   "source": [
    "import pandas as pd\n",
    "import os\n",
    "\n",
    "combined_data = pd.DataFrame()\n",
    "\n",
    "def add_respondent_data(file_name, respondent_num, combined_df):\n",
    "    # Read the CSV file\n",
    "    respondent_df = pd.read_csv(file_name, low_memory=False)\n",
    "    \n",
    "    # Add a new column with the respondent number\n",
    "    respondent_df['Respondent'] = respondent_num\n",
    "    \n",
    "    # Concatenate with the existing combined DataFrame\n",
    "    updated_combined_df = pd.concat([combined_df, respondent_df])\n",
    "    \n",
    "    return updated_combined_df\n",
    "\n",
    "folder_path = \"../../all respondents data/Data from Liza\"\n",
    "\n",
    "first_respondent_csv = os.path.join(folder_path, \"003_ID44.csv\")   # Grade: 100 \n",
    "second_respondent_csv = os.path.join(folder_path, \"006_ID10.csv\")   # Grade: 80\n",
    "third_respondent_csv = os.path.join(folder_path, \"005_ID13_not good.csv\")   # Grade: 50\n",
    "fourth_respondent_csv = os.path.join(folder_path, \"004_ID17_not_so_good.csv\")   # Grade: 50\n",
    "fifth_respondent_csv = os.path.join(folder_path, \"001_ID98_not good.csv\")   # Grade: 40\n",
    "sixth_respondent_csv = os.path.join(folder_path, \"002_ID39_not good.csv\")   # Grade: 92\n",
    "\n",
    "combined_data = add_respondent_data(first_respondent_csv, 'ID44', combined_data)\n",
    "combined_data = add_respondent_data(second_respondent_csv, 'ID10', combined_data)\n",
    "combined_data = add_respondent_data(third_respondent_csv, 'ID13', combined_data)\n",
    "combined_data = add_respondent_data(fourth_respondent_csv, 'ID17', combined_data)\n",
    "combined_data = add_respondent_data(fifth_respondent_csv, 'ID98', combined_data)\n",
    "combined_data = add_respondent_data(sixth_respondent_csv, 'ID39', combined_data)\n",
    "\n",
    "combined_data.head()\n"
   ]
  },
  {
   "cell_type": "code",
   "execution_count": 27,
   "metadata": {},
   "outputs": [],
   "source": [
    "combined_data.to_csv('./all_lizas_data.csv')"
   ]
  },
  {
   "cell_type": "code",
   "execution_count": 28,
   "metadata": {},
   "outputs": [
    {
     "name": "stdout",
     "output_type": "stream",
     "text": [
      "        Contempt  Smirk  Surprise       Joy     Smile   Sadness  BlinkRate\n",
      "304     0.193269    0.0  0.896640  0.024466  0.046995  0.129712       12.0\n",
      "305     0.193102    0.0  1.194262  0.024549  0.059991  0.129842       12.0\n",
      "306     0.192848    0.0  1.720508  0.024686  0.077337  0.129940       12.0\n",
      "307     0.192423    0.0  2.513143  0.024857  0.103606  0.130033       12.0\n",
      "308     0.192040    0.0  3.347697  0.025068  0.131524  0.130201       12.0\n",
      "...          ...    ...       ...       ...       ...       ...        ...\n",
      "112695  0.147635    0.0  0.062942  0.035968  3.089278  0.113379        6.0\n",
      "112696  0.148295    0.0  0.061844  0.036153  3.168612  0.114594        6.0\n",
      "112697  0.148394    0.0  0.061110  0.036436  3.249912  0.115312        6.0\n",
      "112698  0.147205    0.0  0.060384  0.037461  3.413649  0.115149        6.0\n",
      "112699  0.145511    0.0  0.059835  0.038738  3.610710  0.114823        6.0\n",
      "\n",
      "[342160 rows x 7 columns]\n"
     ]
    }
   ],
   "source": [
    "import pandas as pd\n",
    "import numpy as np\n",
    "\n",
    "# Columns to check for NaN values\n",
    "columns_to_check = [ 'Contempt', 'Smirk', 'Surprise', 'Joy', 'Smile', 'Sadness', 'BlinkRate']\n",
    "\n",
    "# Function to remove rows with NaN in specific columns\n",
    "def remove_nan_rows(group):\n",
    "    return group.dropna(subset=columns_to_check)\n",
    "\n",
    "# Apply the function to each group of respondents\n",
    "cleaned_df = combined_data.groupby('Respondent', group_keys=False).apply(remove_nan_rows)\n",
    "\n",
    "print(cleaned_df[columns_to_check])\n"
   ]
  },
  {
   "cell_type": "code",
   "execution_count": 29,
   "metadata": {},
   "outputs": [
    {
     "name": "stdout",
     "output_type": "stream",
     "text": [
      "['ID10' 'ID13' 'ID17' 'ID44' 'ID98']\n"
     ]
    }
   ],
   "source": [
    "# Get unique values in the 'Respondent' column\n",
    "unique_respondents = cleaned_df['Respondent'].unique()\n",
    "\n",
    "# Print the unique values\n",
    "print(unique_respondents)"
   ]
  },
  {
   "cell_type": "markdown",
   "metadata": {},
   "source": [
    "<h4>Full Session Mean</h4>"
   ]
  },
  {
   "cell_type": "code",
   "execution_count": 30,
   "metadata": {},
   "outputs": [
    {
     "name": "stdout",
     "output_type": "stream",
     "text": [
      "  Respondent  Contempt     Smirk  Surprise        Joy      Smile   Sadness  \\\n",
      "0       ID10  0.339416  0.630430  0.374016   4.593124   9.455350  0.404492   \n",
      "1       ID13  0.241036  2.401491  1.553411  16.319573  28.245165  0.272261   \n",
      "2       ID17  0.549909  2.699731  0.754405   1.991545   2.681640  0.306827   \n",
      "3       ID44  0.686758  1.292781  0.693617   0.083430   0.658354  0.703780   \n",
      "4       ID98  0.404286  1.450335  3.040341   8.179064  10.908241  0.223287   \n",
      "\n",
      "   BlinkRate  \n",
      "0   2.696977  \n",
      "1   0.232523  \n",
      "2   0.731362  \n",
      "3   1.695856  \n",
      "4   2.285506  \n"
     ]
    }
   ],
   "source": [
    "import pandas as pd\n",
    "import numpy as np\n",
    "\n",
    "columns_to_average = ['Contempt', 'Smirk', 'Surprise', 'Joy', 'Smile', 'Sadness', 'BlinkRate'] \n",
    "\n",
    "# Calculate the mean for the specified columns for each respondent\n",
    "mean_values_per_respondent = cleaned_df.groupby('Respondent')[columns_to_average].mean()\n",
    "\n",
    "# Reset the index so 'respondent' becomes a column again, if desired\n",
    "mean_values_per_respondent.reset_index(inplace=True)\n",
    "\n",
    "print(mean_values_per_respondent)\n"
   ]
  },
  {
   "cell_type": "code",
   "execution_count": 31,
   "metadata": {},
   "outputs": [],
   "source": [
    "mean_values_per_respondent.to_csv('./datasets/Data_from_liza_facial_mean_values_per_respondent_27_3_2024.csv')"
   ]
  },
  {
   "cell_type": "markdown",
   "metadata": {},
   "source": [
    "<h4>First 5 Minutes Mean</h4>"
   ]
  },
  {
   "cell_type": "code",
   "execution_count": 66,
   "metadata": {},
   "outputs": [
    {
     "name": "stdout",
     "output_type": "stream",
     "text": [
      "  Respondent  Contempt     Smirk  Surprise        Joy      Smile   Sadness  \\\n",
      "0       ID10  0.176197  0.524857  0.293633   3.716134   9.105960  0.169417   \n",
      "1       ID13  0.381703  1.755794  1.623575  20.357950  35.021996  0.432461   \n",
      "2       ID17  0.903339  3.512868  3.099678   0.587198   1.065402  1.277740   \n",
      "3       ID44  0.288657  0.374947  0.120480   0.028721   0.243033  0.553659   \n",
      "4       ID98  0.178758  1.489180  1.793911   9.762782  14.436672  0.279425   \n",
      "\n",
      "   BlinkRate  \n",
      "0     3.9168  \n",
      "1     0.0000  \n",
      "2     0.6552  \n",
      "3     0.9690  \n",
      "4     1.6854  \n"
     ]
    }
   ],
   "source": [
    "import pandas as pd\n",
    "import numpy as np\n",
    "\n",
    "\n",
    "columns_to_average = ['Contempt', 'Smirk', 'Surprise', 'Joy', 'Smile', 'Sadness', 'BlinkRate']\n",
    "\n",
    "# Function to process each group\n",
    "def process_group(group):\n",
    "    # Sort the group by Timestamp\n",
    "    sorted_group = group.sort_values(by='Timestamp')\n",
    "    # Select the first 10,000 rows\n",
    "    selected_samples = sorted_group.head(10000)     # First 5 minutes\n",
    "    # Calculate the mean for the specified columns\n",
    "    return selected_samples[columns_to_average].mean()\n",
    "\n",
    "# Calculate the mean for the specified columns for each respondent, based on the first 10,000 rows ordered by Timestamp\n",
    "mean_values_per_respondent = cleaned_df.groupby('Respondent').apply(process_group)\n",
    "\n",
    "mean_values_per_respondent.reset_index(inplace=True)\n",
    "\n",
    "print(mean_values_per_respondent)\n"
   ]
  },
  {
   "cell_type": "code",
   "execution_count": 67,
   "metadata": {},
   "outputs": [],
   "source": [
    "mean_values_per_respondent.to_csv('./datasets/Data_from_liza_first_5_minutes_mean_28_3_2024.csv')"
   ]
  },
  {
   "cell_type": "markdown",
   "metadata": {},
   "source": [
    "<h4>Import Mean Data to Test</h4>"
   ]
  },
  {
   "cell_type": "code",
   "execution_count": 68,
   "metadata": {},
   "outputs": [
    {
     "data": {
      "text/html": [
       "<div>\n",
       "<style scoped>\n",
       "    .dataframe tbody tr th:only-of-type {\n",
       "        vertical-align: middle;\n",
       "    }\n",
       "\n",
       "    .dataframe tbody tr th {\n",
       "        vertical-align: top;\n",
       "    }\n",
       "\n",
       "    .dataframe thead th {\n",
       "        text-align: right;\n",
       "    }\n",
       "</style>\n",
       "<table border=\"1\" class=\"dataframe\">\n",
       "  <thead>\n",
       "    <tr style=\"text-align: right;\">\n",
       "      <th></th>\n",
       "      <th>Unnamed: 0</th>\n",
       "      <th>Respondent</th>\n",
       "      <th>Contempt</th>\n",
       "      <th>Smirk</th>\n",
       "      <th>Surprise</th>\n",
       "      <th>Joy</th>\n",
       "      <th>Smile</th>\n",
       "      <th>Sadness</th>\n",
       "      <th>BlinkRate</th>\n",
       "    </tr>\n",
       "  </thead>\n",
       "  <tbody>\n",
       "    <tr>\n",
       "      <th>0</th>\n",
       "      <td>0</td>\n",
       "      <td>ID10</td>\n",
       "      <td>0.176197</td>\n",
       "      <td>0.524857</td>\n",
       "      <td>0.293633</td>\n",
       "      <td>3.716134</td>\n",
       "      <td>9.105960</td>\n",
       "      <td>0.169417</td>\n",
       "      <td>3.9168</td>\n",
       "    </tr>\n",
       "    <tr>\n",
       "      <th>1</th>\n",
       "      <td>1</td>\n",
       "      <td>ID13</td>\n",
       "      <td>0.381703</td>\n",
       "      <td>1.755794</td>\n",
       "      <td>1.623575</td>\n",
       "      <td>20.357950</td>\n",
       "      <td>35.021996</td>\n",
       "      <td>0.432461</td>\n",
       "      <td>0.0000</td>\n",
       "    </tr>\n",
       "    <tr>\n",
       "      <th>2</th>\n",
       "      <td>2</td>\n",
       "      <td>ID17</td>\n",
       "      <td>0.903339</td>\n",
       "      <td>3.512868</td>\n",
       "      <td>3.099678</td>\n",
       "      <td>0.587198</td>\n",
       "      <td>1.065402</td>\n",
       "      <td>1.277740</td>\n",
       "      <td>0.6552</td>\n",
       "    </tr>\n",
       "    <tr>\n",
       "      <th>3</th>\n",
       "      <td>3</td>\n",
       "      <td>ID44</td>\n",
       "      <td>0.288657</td>\n",
       "      <td>0.374947</td>\n",
       "      <td>0.120480</td>\n",
       "      <td>0.028721</td>\n",
       "      <td>0.243033</td>\n",
       "      <td>0.553659</td>\n",
       "      <td>0.9690</td>\n",
       "    </tr>\n",
       "    <tr>\n",
       "      <th>4</th>\n",
       "      <td>4</td>\n",
       "      <td>ID98</td>\n",
       "      <td>0.178758</td>\n",
       "      <td>1.489180</td>\n",
       "      <td>1.793911</td>\n",
       "      <td>9.762782</td>\n",
       "      <td>14.436672</td>\n",
       "      <td>0.279425</td>\n",
       "      <td>1.6854</td>\n",
       "    </tr>\n",
       "  </tbody>\n",
       "</table>\n",
       "</div>"
      ],
      "text/plain": [
       "   Unnamed: 0 Respondent  Contempt     Smirk  Surprise        Joy      Smile  \\\n",
       "0           0       ID10  0.176197  0.524857  0.293633   3.716134   9.105960   \n",
       "1           1       ID13  0.381703  1.755794  1.623575  20.357950  35.021996   \n",
       "2           2       ID17  0.903339  3.512868  3.099678   0.587198   1.065402   \n",
       "3           3       ID44  0.288657  0.374947  0.120480   0.028721   0.243033   \n",
       "4           4       ID98  0.178758  1.489180  1.793911   9.762782  14.436672   \n",
       "\n",
       "    Sadness  BlinkRate  \n",
       "0  0.169417     3.9168  \n",
       "1  0.432461     0.0000  \n",
       "2  1.277740     0.6552  \n",
       "3  0.553659     0.9690  \n",
       "4  0.279425     1.6854  "
      ]
     },
     "execution_count": 68,
     "metadata": {},
     "output_type": "execute_result"
    }
   ],
   "source": [
    "import pandas as pd\n",
    "\n",
    "# Load data\n",
    "file_path = './datasets/Data_from_liza_first_5_minutes_mean_28_3_2024.csv'\n",
    "mean_data_from_file = df = pd.read_csv(file_path, low_memory=False)\n",
    "\n",
    "mean_data_from_file.head()"
   ]
  },
  {
   "cell_type": "code",
   "execution_count": 69,
   "metadata": {},
   "outputs": [
    {
     "data": {
      "text/plain": [
       "Index(['Unnamed: 0', 'Respondent', 'Contempt', 'Smirk', 'Surprise', 'Joy',\n",
       "       'Smile', 'Sadness', 'BlinkRate'],\n",
       "      dtype='object')"
      ]
     },
     "execution_count": 69,
     "metadata": {},
     "output_type": "execute_result"
    }
   ],
   "source": [
    "mean_data_from_file.columns"
   ]
  },
  {
   "cell_type": "markdown",
   "metadata": {},
   "source": [
    "<h2>Classifiers Validation</h2>"
   ]
  },
  {
   "cell_type": "markdown",
   "metadata": {},
   "source": [
    "<h3>Random Forest Classifier 5 Minutes</h3>"
   ]
  },
  {
   "cell_type": "code",
   "execution_count": 70,
   "metadata": {},
   "outputs": [],
   "source": [
    "from joblib import load\n",
    "\n",
    "rf_classifier_loaded = load('./Grade Classifiers/rf_first_5_minutes_classifier.joblib')\n"
   ]
  },
  {
   "cell_type": "code",
   "execution_count": 71,
   "metadata": {},
   "outputs": [
    {
     "name": "stdout",
     "output_type": "stream",
     "text": [
      "   Contempt     Smirk  Surprise        Joy      Smile   Sadness  BlinkRate  \\\n",
      "0  0.176197  0.524857  0.293633   3.716134   9.105960  0.169417     3.9168   \n",
      "1  0.381703  1.755794  1.623575  20.357950  35.021996  0.432461     0.0000   \n",
      "2  0.903339  3.512868  3.099678   0.587198   1.065402  1.277740     0.6552   \n",
      "3  0.288657  0.374947  0.120480   0.028721   0.243033  0.553659     0.9690   \n",
      "4  0.178758  1.489180  1.793911   9.762782  14.436672  0.279425     1.6854   \n",
      "\n",
      "  Predicted Grade Group  \n",
      "0              Above 55  \n",
      "1              Above 55  \n",
      "2              Below 55  \n",
      "3              Above 55  \n",
      "4              Above 55  \n"
     ]
    },
    {
     "name": "stderr",
     "output_type": "stream",
     "text": [
      "C:\\Users\\user\\AppData\\Local\\Temp\\ipykernel_202744\\1332387697.py:9: SettingWithCopyWarning: \n",
      "A value is trying to be set on a copy of a slice from a DataFrame.\n",
      "Try using .loc[row_indexer,col_indexer] = value instead\n",
      "\n",
      "See the caveats in the documentation: https://pandas.pydata.org/pandas-docs/stable/user_guide/indexing.html#returning-a-view-versus-a-copy\n",
      "  new_respondents_df['Predicted Grade Group'] = predictions\n"
     ]
    }
   ],
   "source": [
    "# List of columns that were used as features\n",
    "features_list = ['Contempt', 'Smirk', 'Surprise', 'Joy', 'Smile', 'Sadness', 'BlinkRate'] \n",
    "\n",
    "new_respondents_df = mean_data_from_file[features_list]\n",
    "\n",
    "predictions = rf_classifier_loaded.predict(new_respondents_df)\n",
    "\n",
    "# Adding predictions to the new_respondents_df\n",
    "new_respondents_df['Predicted Grade Group'] = predictions\n",
    "\n",
    "print(new_respondents_df)\n"
   ]
  },
  {
   "cell_type": "markdown",
   "metadata": {},
   "source": [
    "<h3>Random Forest Classifier Full Sessions</h3>"
   ]
  },
  {
   "cell_type": "code",
   "execution_count": 72,
   "metadata": {},
   "outputs": [],
   "source": [
    "from joblib import load\n",
    "\n",
    "rf_classifier_loaded = load('./Grade Classifiers/rf_full_session_classifier.joblib')\n"
   ]
  },
  {
   "cell_type": "code",
   "execution_count": 73,
   "metadata": {},
   "outputs": [
    {
     "name": "stdout",
     "output_type": "stream",
     "text": [
      "   Contempt     Smirk  Surprise        Joy      Smile   Sadness  BlinkRate  \\\n",
      "0  0.176197  0.524857  0.293633   3.716134   9.105960  0.169417     3.9168   \n",
      "1  0.381703  1.755794  1.623575  20.357950  35.021996  0.432461     0.0000   \n",
      "2  0.903339  3.512868  3.099678   0.587198   1.065402  1.277740     0.6552   \n",
      "3  0.288657  0.374947  0.120480   0.028721   0.243033  0.553659     0.9690   \n",
      "4  0.178758  1.489180  1.793911   9.762782  14.436672  0.279425     1.6854   \n",
      "\n",
      "  Predicted Grade Group  \n",
      "0              Above 55  \n",
      "1              Above 55  \n",
      "2              Below 55  \n",
      "3              Above 55  \n",
      "4              Below 55  \n"
     ]
    },
    {
     "name": "stderr",
     "output_type": "stream",
     "text": [
      "C:\\Users\\user\\AppData\\Local\\Temp\\ipykernel_202744\\1332387697.py:9: SettingWithCopyWarning: \n",
      "A value is trying to be set on a copy of a slice from a DataFrame.\n",
      "Try using .loc[row_indexer,col_indexer] = value instead\n",
      "\n",
      "See the caveats in the documentation: https://pandas.pydata.org/pandas-docs/stable/user_guide/indexing.html#returning-a-view-versus-a-copy\n",
      "  new_respondents_df['Predicted Grade Group'] = predictions\n"
     ]
    }
   ],
   "source": [
    "# List of columns that were used as features\n",
    "features_list = ['Contempt', 'Smirk', 'Surprise', 'Joy', 'Smile', 'Sadness', 'BlinkRate'] \n",
    "\n",
    "new_respondents_df = mean_data_from_file[features_list]\n",
    "\n",
    "predictions = rf_classifier_loaded.predict(new_respondents_df)\n",
    "\n",
    "# Adding predictions to the new_respondents_df\n",
    "new_respondents_df['Predicted Grade Group'] = predictions\n",
    "\n",
    "print(new_respondents_df)\n"
   ]
  },
  {
   "cell_type": "markdown",
   "metadata": {},
   "source": [
    "<h3>Logistic Regression</h3>"
   ]
  },
  {
   "cell_type": "code",
   "execution_count": 74,
   "metadata": {},
   "outputs": [
    {
     "data": {
      "text/html": [
       "<div>\n",
       "<style scoped>\n",
       "    .dataframe tbody tr th:only-of-type {\n",
       "        vertical-align: middle;\n",
       "    }\n",
       "\n",
       "    .dataframe tbody tr th {\n",
       "        vertical-align: top;\n",
       "    }\n",
       "\n",
       "    .dataframe thead th {\n",
       "        text-align: right;\n",
       "    }\n",
       "</style>\n",
       "<table border=\"1\" class=\"dataframe\">\n",
       "  <thead>\n",
       "    <tr style=\"text-align: right;\">\n",
       "      <th></th>\n",
       "      <th>Unnamed: 0</th>\n",
       "      <th>Respondent</th>\n",
       "      <th>Contempt</th>\n",
       "      <th>Smirk</th>\n",
       "      <th>Surprise</th>\n",
       "      <th>Joy</th>\n",
       "      <th>Smile</th>\n",
       "      <th>Sadness</th>\n",
       "      <th>BlinkRate</th>\n",
       "      <th>Grade</th>\n",
       "      <th>Grade Group</th>\n",
       "    </tr>\n",
       "  </thead>\n",
       "  <tbody>\n",
       "    <tr>\n",
       "      <th>0</th>\n",
       "      <td>0</td>\n",
       "      <td>ID10</td>\n",
       "      <td>0.339416</td>\n",
       "      <td>0.630430</td>\n",
       "      <td>0.374016</td>\n",
       "      <td>4.593124</td>\n",
       "      <td>9.455350</td>\n",
       "      <td>0.404492</td>\n",
       "      <td>2.696977</td>\n",
       "      <td>80</td>\n",
       "      <td>Above 55</td>\n",
       "    </tr>\n",
       "    <tr>\n",
       "      <th>1</th>\n",
       "      <td>1</td>\n",
       "      <td>ID13</td>\n",
       "      <td>0.241036</td>\n",
       "      <td>2.401491</td>\n",
       "      <td>1.553411</td>\n",
       "      <td>16.319573</td>\n",
       "      <td>28.245165</td>\n",
       "      <td>0.272261</td>\n",
       "      <td>0.232523</td>\n",
       "      <td>50</td>\n",
       "      <td>Below or Equal 55</td>\n",
       "    </tr>\n",
       "    <tr>\n",
       "      <th>2</th>\n",
       "      <td>2</td>\n",
       "      <td>ID17</td>\n",
       "      <td>0.549909</td>\n",
       "      <td>2.699731</td>\n",
       "      <td>0.754405</td>\n",
       "      <td>1.991545</td>\n",
       "      <td>2.681640</td>\n",
       "      <td>0.306827</td>\n",
       "      <td>0.731362</td>\n",
       "      <td>50</td>\n",
       "      <td>Below or Equal 55</td>\n",
       "    </tr>\n",
       "    <tr>\n",
       "      <th>3</th>\n",
       "      <td>3</td>\n",
       "      <td>ID44</td>\n",
       "      <td>0.686758</td>\n",
       "      <td>1.292781</td>\n",
       "      <td>0.693617</td>\n",
       "      <td>0.083430</td>\n",
       "      <td>0.658354</td>\n",
       "      <td>0.703780</td>\n",
       "      <td>1.695856</td>\n",
       "      <td>100</td>\n",
       "      <td>Above 55</td>\n",
       "    </tr>\n",
       "    <tr>\n",
       "      <th>4</th>\n",
       "      <td>4</td>\n",
       "      <td>ID98</td>\n",
       "      <td>0.404286</td>\n",
       "      <td>1.450335</td>\n",
       "      <td>3.040341</td>\n",
       "      <td>8.179064</td>\n",
       "      <td>10.908241</td>\n",
       "      <td>0.223287</td>\n",
       "      <td>2.285506</td>\n",
       "      <td>40</td>\n",
       "      <td>Below or Equal 55</td>\n",
       "    </tr>\n",
       "  </tbody>\n",
       "</table>\n",
       "</div>"
      ],
      "text/plain": [
       "   Unnamed: 0 Respondent  Contempt     Smirk  Surprise        Joy      Smile  \\\n",
       "0           0       ID10  0.339416  0.630430  0.374016   4.593124   9.455350   \n",
       "1           1       ID13  0.241036  2.401491  1.553411  16.319573  28.245165   \n",
       "2           2       ID17  0.549909  2.699731  0.754405   1.991545   2.681640   \n",
       "3           3       ID44  0.686758  1.292781  0.693617   0.083430   0.658354   \n",
       "4           4       ID98  0.404286  1.450335  3.040341   8.179064  10.908241   \n",
       "\n",
       "    Sadness  BlinkRate  Grade        Grade Group  \n",
       "0  0.404492   2.696977     80           Above 55  \n",
       "1  0.272261   0.232523     50  Below or Equal 55  \n",
       "2  0.306827   0.731362     50  Below or Equal 55  \n",
       "3  0.703780   1.695856    100           Above 55  \n",
       "4  0.223287   2.285506     40  Below or Equal 55  "
      ]
     },
     "execution_count": 74,
     "metadata": {},
     "output_type": "execute_result"
    }
   ],
   "source": [
    "import pandas as pd\n",
    "\n",
    "# Load data\n",
    "file_path = './datasets/Data_from_liza_facial_mean_values_per_respondent_27_3_2024.csv'\n",
    "mean_data_from_file = df = pd.read_csv(file_path, low_memory=False)\n",
    "\n",
    "mean_data_from_file.head()"
   ]
  },
  {
   "cell_type": "code",
   "execution_count": 75,
   "metadata": {},
   "outputs": [],
   "source": [
    "from joblib import load\n",
    "\n",
    "rf_classifier_loaded = load('./Grade Classifiers/LogisticRegression_full_session_classifier.joblib')\n"
   ]
  },
  {
   "cell_type": "code",
   "execution_count": 76,
   "metadata": {},
   "outputs": [
    {
     "name": "stdout",
     "output_type": "stream",
     "text": [
      "   Contempt     Smirk  Surprise        Joy      Smile   Sadness  BlinkRate  \\\n",
      "0  0.339416  0.630430  0.374016   4.593124   9.455350  0.404492   2.696977   \n",
      "1  0.241036  2.401491  1.553411  16.319573  28.245165  0.272261   0.232523   \n",
      "2  0.549909  2.699731  0.754405   1.991545   2.681640  0.306827   0.731362   \n",
      "3  0.686758  1.292781  0.693617   0.083430   0.658354  0.703780   1.695856   \n",
      "4  0.404286  1.450335  3.040341   8.179064  10.908241  0.223287   2.285506   \n",
      "\n",
      "  Predicted Grade Group  \n",
      "0              Below 55  \n",
      "1              Below 55  \n",
      "2              Below 55  \n",
      "3              Below 55  \n",
      "4              Below 55  \n"
     ]
    },
    {
     "name": "stderr",
     "output_type": "stream",
     "text": [
      "C:\\Users\\user\\AppData\\Local\\Temp\\ipykernel_202744\\2892904641.py:9: SettingWithCopyWarning: \n",
      "A value is trying to be set on a copy of a slice from a DataFrame.\n",
      "Try using .loc[row_indexer,col_indexer] = value instead\n",
      "\n",
      "See the caveats in the documentation: https://pandas.pydata.org/pandas-docs/stable/user_guide/indexing.html#returning-a-view-versus-a-copy\n",
      "  new_respondents_df['Predicted Grade Group'] = predictions\n"
     ]
    }
   ],
   "source": [
    "# List of columns that were used as features\n",
    "features_list = [ 'Contempt', 'Smirk', 'Surprise', 'Joy', 'Smile', 'Sadness', 'BlinkRate'] \n",
    "\n",
    "new_respondents_df = mean_data_from_file[features_list]\n",
    "\n",
    "predictions = rf_classifier_loaded.predict(new_respondents_df)\n",
    "\n",
    "# Adding predictions to the new_respondents_df\n",
    "new_respondents_df['Predicted Grade Group'] = predictions\n",
    "\n",
    "print(new_respondents_df)\n"
   ]
  },
  {
   "cell_type": "markdown",
   "metadata": {},
   "source": [
    "<h3>Decision Tree Additional Features</h3>"
   ]
  },
  {
   "cell_type": "code",
   "execution_count": 80,
   "metadata": {},
   "outputs": [
    {
     "data": {
      "text/html": [
       "<div>\n",
       "<style scoped>\n",
       "    .dataframe tbody tr th:only-of-type {\n",
       "        vertical-align: middle;\n",
       "    }\n",
       "\n",
       "    .dataframe tbody tr th {\n",
       "        vertical-align: top;\n",
       "    }\n",
       "\n",
       "    .dataframe thead th {\n",
       "        text-align: right;\n",
       "    }\n",
       "</style>\n",
       "<table border=\"1\" class=\"dataframe\">\n",
       "  <thead>\n",
       "    <tr style=\"text-align: right;\">\n",
       "      <th></th>\n",
       "      <th>Unnamed: 0</th>\n",
       "      <th>Respondent</th>\n",
       "      <th>Contempt</th>\n",
       "      <th>Smirk</th>\n",
       "      <th>Surprise</th>\n",
       "      <th>Joy</th>\n",
       "      <th>Smile</th>\n",
       "      <th>Sadness</th>\n",
       "      <th>BlinkRate</th>\n",
       "      <th>Grade</th>\n",
       "      <th>Grade Group</th>\n",
       "    </tr>\n",
       "  </thead>\n",
       "  <tbody>\n",
       "    <tr>\n",
       "      <th>0</th>\n",
       "      <td>0</td>\n",
       "      <td>ID10</td>\n",
       "      <td>0.339416</td>\n",
       "      <td>0.630430</td>\n",
       "      <td>0.374016</td>\n",
       "      <td>4.593124</td>\n",
       "      <td>9.455350</td>\n",
       "      <td>0.404492</td>\n",
       "      <td>2.696977</td>\n",
       "      <td>80</td>\n",
       "      <td>Above 55</td>\n",
       "    </tr>\n",
       "    <tr>\n",
       "      <th>1</th>\n",
       "      <td>1</td>\n",
       "      <td>ID13</td>\n",
       "      <td>0.241036</td>\n",
       "      <td>2.401491</td>\n",
       "      <td>1.553411</td>\n",
       "      <td>16.319573</td>\n",
       "      <td>28.245165</td>\n",
       "      <td>0.272261</td>\n",
       "      <td>0.232523</td>\n",
       "      <td>50</td>\n",
       "      <td>Below or Equal 55</td>\n",
       "    </tr>\n",
       "    <tr>\n",
       "      <th>2</th>\n",
       "      <td>2</td>\n",
       "      <td>ID17</td>\n",
       "      <td>0.549909</td>\n",
       "      <td>2.699731</td>\n",
       "      <td>0.754405</td>\n",
       "      <td>1.991545</td>\n",
       "      <td>2.681640</td>\n",
       "      <td>0.306827</td>\n",
       "      <td>0.731362</td>\n",
       "      <td>50</td>\n",
       "      <td>Below or Equal 55</td>\n",
       "    </tr>\n",
       "    <tr>\n",
       "      <th>3</th>\n",
       "      <td>3</td>\n",
       "      <td>ID44</td>\n",
       "      <td>0.686758</td>\n",
       "      <td>1.292781</td>\n",
       "      <td>0.693617</td>\n",
       "      <td>0.083430</td>\n",
       "      <td>0.658354</td>\n",
       "      <td>0.703780</td>\n",
       "      <td>1.695856</td>\n",
       "      <td>100</td>\n",
       "      <td>Above 55</td>\n",
       "    </tr>\n",
       "    <tr>\n",
       "      <th>4</th>\n",
       "      <td>4</td>\n",
       "      <td>ID98</td>\n",
       "      <td>0.404286</td>\n",
       "      <td>1.450335</td>\n",
       "      <td>3.040341</td>\n",
       "      <td>8.179064</td>\n",
       "      <td>10.908241</td>\n",
       "      <td>0.223287</td>\n",
       "      <td>2.285506</td>\n",
       "      <td>40</td>\n",
       "      <td>Below or Equal 55</td>\n",
       "    </tr>\n",
       "  </tbody>\n",
       "</table>\n",
       "</div>"
      ],
      "text/plain": [
       "   Unnamed: 0 Respondent  Contempt     Smirk  Surprise        Joy      Smile  \\\n",
       "0           0       ID10  0.339416  0.630430  0.374016   4.593124   9.455350   \n",
       "1           1       ID13  0.241036  2.401491  1.553411  16.319573  28.245165   \n",
       "2           2       ID17  0.549909  2.699731  0.754405   1.991545   2.681640   \n",
       "3           3       ID44  0.686758  1.292781  0.693617   0.083430   0.658354   \n",
       "4           4       ID98  0.404286  1.450335  3.040341   8.179064  10.908241   \n",
       "\n",
       "    Sadness  BlinkRate  Grade        Grade Group  \n",
       "0  0.404492   2.696977     80           Above 55  \n",
       "1  0.272261   0.232523     50  Below or Equal 55  \n",
       "2  0.306827   0.731362     50  Below or Equal 55  \n",
       "3  0.703780   1.695856    100           Above 55  \n",
       "4  0.223287   2.285506     40  Below or Equal 55  "
      ]
     },
     "execution_count": 80,
     "metadata": {},
     "output_type": "execute_result"
    }
   ],
   "source": [
    "import pandas as pd\n",
    "\n",
    "# Load data\n",
    "file_path = './datasets/Data_from_liza_facial_mean_values_per_respondent_27_3_2024.csv'\n",
    "mean_data_from_file = df = pd.read_csv(file_path, low_memory=False)\n",
    "\n",
    "mean_data_from_file.head()"
   ]
  },
  {
   "cell_type": "code",
   "execution_count": 81,
   "metadata": {},
   "outputs": [],
   "source": [
    "from joblib import load\n",
    "\n",
    "dt_classifier_loaded = load('./Grade Classifiers/dt_classifier.joblib')\n"
   ]
  },
  {
   "cell_type": "code",
   "execution_count": 82,
   "metadata": {},
   "outputs": [
    {
     "name": "stdout",
     "output_type": "stream",
     "text": [
      "['Contempt' 'Smirk' 'Surprise' 'Joy' 'Smile' 'Sadness' 'BlinkRate']\n"
     ]
    }
   ],
   "source": [
    "print(dt_classifier_loaded.feature_names_in_)"
   ]
  },
  {
   "cell_type": "code",
   "execution_count": 49,
   "metadata": {},
   "outputs": [
    {
     "name": "stdout",
     "output_type": "stream",
     "text": [
      "Index(['Unnamed: 0', 'Respondent', 'Contempt', 'Smirk', 'Surprise', 'Joy',\n",
      "       'Smile', 'Sadness', 'BlinkRate', 'Grade', 'Grade Group'],\n",
      "      dtype='object')\n"
     ]
    }
   ],
   "source": [
    "print(mean_data_from_file.columns)"
   ]
  },
  {
   "cell_type": "code",
   "execution_count": 83,
   "metadata": {},
   "outputs": [
    {
     "name": "stdout",
     "output_type": "stream",
     "text": [
      "   Contempt     Smirk  Surprise        Joy      Smile   Sadness  BlinkRate  \\\n",
      "0  0.339416  0.630430  0.374016   4.593124   9.455350  0.404492   2.696977   \n",
      "1  0.241036  2.401491  1.553411  16.319573  28.245165  0.272261   0.232523   \n",
      "2  0.549909  2.699731  0.754405   1.991545   2.681640  0.306827   0.731362   \n",
      "3  0.686758  1.292781  0.693617   0.083430   0.658354  0.703780   1.695856   \n",
      "4  0.404286  1.450335  3.040341   8.179064  10.908241  0.223287   2.285506   \n",
      "\n",
      "  Predicted Grade Group  \n",
      "0              Above 55  \n",
      "1              Below 55  \n",
      "2              Above 55  \n",
      "3              Below 55  \n",
      "4              Below 55  \n"
     ]
    },
    {
     "name": "stderr",
     "output_type": "stream",
     "text": [
      "C:\\Users\\user\\AppData\\Local\\Temp\\ipykernel_202744\\559918623.py:9: SettingWithCopyWarning: \n",
      "A value is trying to be set on a copy of a slice from a DataFrame.\n",
      "Try using .loc[row_indexer,col_indexer] = value instead\n",
      "\n",
      "See the caveats in the documentation: https://pandas.pydata.org/pandas-docs/stable/user_guide/indexing.html#returning-a-view-versus-a-copy\n",
      "  new_respondents_df['Predicted Grade Group'] = predictions\n"
     ]
    }
   ],
   "source": [
    "# List of columns that were used as features\n",
    "features_list = ['Contempt', 'Smirk', 'Surprise', 'Joy', 'Smile', 'Sadness', 'BlinkRate'] \n",
    "\n",
    "new_respondents_df = mean_data_from_file[features_list]\n",
    "\n",
    "predictions = dt_classifier_loaded.predict(new_respondents_df)\n",
    "\n",
    "# Adding predictions to the new_respondents_df\n",
    "new_respondents_df['Predicted Grade Group'] = predictions\n",
    "\n",
    "print(new_respondents_df)\n"
   ]
  },
  {
   "cell_type": "markdown",
   "metadata": {},
   "source": [
    "<h3>Naive Bayes</h3> "
   ]
  },
  {
   "cell_type": "code",
   "execution_count": 84,
   "metadata": {},
   "outputs": [],
   "source": [
    "from joblib import load\n",
    "\n",
    "nb_classifier_loaded = load('./Grade Classifiers/NB_model.joblib')\n"
   ]
  },
  {
   "cell_type": "code",
   "execution_count": 85,
   "metadata": {},
   "outputs": [
    {
     "name": "stdout",
     "output_type": "stream",
     "text": [
      "      Smirk  Surprise        Joy      Smile   Sadness  BlinkRate  \\\n",
      "0  0.630430  0.374016   4.593124   9.455350  0.404492   2.696977   \n",
      "1  2.401491  1.553411  16.319573  28.245165  0.272261   0.232523   \n",
      "2  2.699731  0.754405   1.991545   2.681640  0.306827   0.731362   \n",
      "3  1.292781  0.693617   0.083430   0.658354  0.703780   1.695856   \n",
      "4  1.450335  3.040341   8.179064  10.908241  0.223287   2.285506   \n",
      "\n",
      "  Predicted Grade Group  \n",
      "0              Above 55  \n",
      "1              Above 55  \n",
      "2              Below 55  \n",
      "3              Above 55  \n",
      "4              Above 55  \n"
     ]
    },
    {
     "name": "stderr",
     "output_type": "stream",
     "text": [
      "C:\\Users\\user\\AppData\\Local\\Temp\\ipykernel_202744\\873965728.py:9: SettingWithCopyWarning: \n",
      "A value is trying to be set on a copy of a slice from a DataFrame.\n",
      "Try using .loc[row_indexer,col_indexer] = value instead\n",
      "\n",
      "See the caveats in the documentation: https://pandas.pydata.org/pandas-docs/stable/user_guide/indexing.html#returning-a-view-versus-a-copy\n",
      "  new_respondents_df['Predicted Grade Group'] = predictions\n"
     ]
    }
   ],
   "source": [
    "# List of columns that were used as features\n",
    "features_list = ['Smirk', 'Surprise', 'Joy', 'Smile', 'Sadness', 'BlinkRate'] \n",
    "\n",
    "new_respondents_df = mean_data_from_file[features_list]\n",
    "\n",
    "predictions = nb_classifier_loaded.predict(new_respondents_df)\n",
    "\n",
    "# Adding predictions to the new_respondents_df\n",
    "new_respondents_df['Predicted Grade Group'] = predictions\n",
    "\n",
    "print(new_respondents_df)\n"
   ]
  },
  {
   "cell_type": "markdown",
   "metadata": {},
   "source": [
    "<h3>XGBoost</h3>"
   ]
  },
  {
   "cell_type": "code",
   "execution_count": 86,
   "metadata": {},
   "outputs": [],
   "source": [
    "from joblib import load\n",
    "\n",
    "xgb_classifier_loaded = load('./Grade Classifiers/xgboost_classifier_2.joblib')\n"
   ]
  },
  {
   "cell_type": "code",
   "execution_count": 87,
   "metadata": {},
   "outputs": [
    {
     "name": "stdout",
     "output_type": "stream",
     "text": [
      "   Contempt  Surprise        Joy   Sadness  Predicted Grade Group\n",
      "0  0.339416  0.374016   4.593124  0.404492                      0\n",
      "1  0.241036  1.553411  16.319573  0.272261                      0\n",
      "2  0.549909  0.754405   1.991545  0.306827                      0\n",
      "3  0.686758  0.693617   0.083430  0.703780                      0\n",
      "4  0.404286  3.040341   8.179064  0.223287                      0\n"
     ]
    },
    {
     "name": "stderr",
     "output_type": "stream",
     "text": [
      "C:\\Users\\user\\AppData\\Local\\Temp\\ipykernel_202744\\2546086577.py:9: SettingWithCopyWarning: \n",
      "A value is trying to be set on a copy of a slice from a DataFrame.\n",
      "Try using .loc[row_indexer,col_indexer] = value instead\n",
      "\n",
      "See the caveats in the documentation: https://pandas.pydata.org/pandas-docs/stable/user_guide/indexing.html#returning-a-view-versus-a-copy\n",
      "  new_respondents_df['Predicted Grade Group'] = predictions\n"
     ]
    }
   ],
   "source": [
    "# List of columns that were used as features\n",
    "features_list =  ['Contempt', 'Surprise', 'Joy', 'Sadness']\n",
    "\n",
    "new_respondents_df = mean_data_from_file[features_list]\n",
    "\n",
    "predictions = xgb_classifier_loaded.predict(new_respondents_df)\n",
    "\n",
    "# Adding predictions to the new_respondents_df\n",
    "new_respondents_df['Predicted Grade Group'] = predictions\n",
    "\n",
    "print(new_respondents_df)\n"
   ]
  },
  {
   "cell_type": "markdown",
   "metadata": {},
   "source": [
    "<h3>LightGBM</h3>"
   ]
  },
  {
   "cell_type": "code",
   "execution_count": 88,
   "metadata": {},
   "outputs": [],
   "source": [
    "from joblib import load\n",
    "\n",
    "lightgbm_classifier_loaded = load('./Grade Classifiers/lightgbm_classifier.joblib')\n"
   ]
  },
  {
   "cell_type": "code",
   "execution_count": 89,
   "metadata": {},
   "outputs": [
    {
     "name": "stdout",
     "output_type": "stream",
     "text": [
      "   Contempt     Smirk  Surprise        Joy      Smile   Sadness  BlinkRate  \\\n",
      "0  0.339416  0.630430  0.374016   4.593124   9.455350  0.404492   2.696977   \n",
      "1  0.241036  2.401491  1.553411  16.319573  28.245165  0.272261   0.232523   \n",
      "2  0.549909  2.699731  0.754405   1.991545   2.681640  0.306827   0.731362   \n",
      "3  0.686758  1.292781  0.693617   0.083430   0.658354  0.703780   1.695856   \n",
      "4  0.404286  1.450335  3.040341   8.179064  10.908241  0.223287   2.285506   \n",
      "\n",
      "   Predicted Grade Group  \n",
      "0                      0  \n",
      "1                      0  \n",
      "2                      0  \n",
      "3                      0  \n",
      "4                      0  \n"
     ]
    },
    {
     "name": "stderr",
     "output_type": "stream",
     "text": [
      "C:\\Users\\user\\AppData\\Local\\Temp\\ipykernel_202744\\3365019308.py:9: SettingWithCopyWarning: \n",
      "A value is trying to be set on a copy of a slice from a DataFrame.\n",
      "Try using .loc[row_indexer,col_indexer] = value instead\n",
      "\n",
      "See the caveats in the documentation: https://pandas.pydata.org/pandas-docs/stable/user_guide/indexing.html#returning-a-view-versus-a-copy\n",
      "  new_respondents_df['Predicted Grade Group'] = predictions\n"
     ]
    }
   ],
   "source": [
    "# List of columns that were used as features\n",
    "features_list =  ['Contempt', 'Smirk', 'Surprise', 'Joy', 'Smile', 'Sadness', 'BlinkRate']\n",
    "\n",
    "new_respondents_df = mean_data_from_file[features_list]\n",
    "\n",
    "predictions = lightgbm_classifier_loaded.predict(new_respondents_df)\n",
    "\n",
    "# Adding predictions to the new_respondents_df\n",
    "new_respondents_df['Predicted Grade Group'] = predictions\n",
    "\n",
    "print(new_respondents_df)\n"
   ]
  }
 ],
 "metadata": {
  "kernelspec": {
   "display_name": "Python 3",
   "language": "python",
   "name": "python3"
  },
  "language_info": {
   "codemirror_mode": {
    "name": "ipython",
    "version": 3
   },
   "file_extension": ".py",
   "mimetype": "text/x-python",
   "name": "python",
   "nbconvert_exporter": "python",
   "pygments_lexer": "ipython3",
   "version": "3.10.4"
  }
 },
 "nbformat": 4,
 "nbformat_minor": 2
}
